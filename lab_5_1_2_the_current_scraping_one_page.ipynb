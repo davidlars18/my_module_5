{
 "cells": [
  {
   "cell_type": "markdown",
   "metadata": {},
   "source": [
    "# Case Study - The Current - Part 2\n",
    "\n",
    "* The Current is an alternative radio station\n",
    "* We will pull information about the play list."
   ]
  },
  {
   "cell_type": "markdown",
   "metadata": {},
   "source": [
    "# Step 0 - Insert current progress\n",
    "\n",
    "Copy over all the relevant code from part 1 of the lab.\n",
    "\n",
    "http://www.thecurrent.org/playlist/2014-01-01/01"
   ]
  },
  {
   "cell_type": "code",
   "execution_count": 2,
   "metadata": {
    "scrolled": true
   },
   "outputs": [],
   "source": [
    "# Import modules here\n",
    "from composablesoup import find, find_all, get_text, has_attr\n",
    "from composable.sequence import slice, head\n",
    "from composable.strict import map, filter\n",
    "from composable.string import replace, split\n",
    "from composable import pipeable\n",
    "from composable import from_toolz as tlz\n",
    "from composablesoup.soup import find_parent, parents, children, find_previous_sibling, find_previous_siblings, find_next_sibling, find_next_siblings, find_previous_sibling"
   ]
  },
  {
   "cell_type": "code",
   "execution_count": 3,
   "metadata": {
    "scrolled": false
   },
   "outputs": [],
   "source": [
    "# Read in the page here\n",
    "import requests\n",
    "from bs4 import BeautifulSoup\n",
    "s = requests.Session()\n",
    "r = s.get('https://www.thecurrent.org/playlist/2014-10-14/01')\n",
    "music_page = BeautifulSoup(r.content, \"html.parser\")\n"
   ]
  },
  {
   "cell_type": "code",
   "execution_count": 4,
   "metadata": {},
   "outputs": [],
   "source": [
    "get_title = pipeable(lambda soup: soup\n",
    "    >> find_all('h5', attrs={'class':'title'})\n",
    "    >> map(get_text)\n",
    ")"
   ]
  },
  {
   "cell_type": "code",
   "execution_count": 5,
   "metadata": {},
   "outputs": [],
   "source": [
    "get_artist = pipeable(lambda soup: soup\n",
    "    >> find_all('h5', attrs={'class':'artist'})\n",
    "    >> map(get_text)\n",
    "    )"
   ]
  },
  {
   "cell_type": "code",
   "execution_count": 6,
   "metadata": {},
   "outputs": [],
   "source": [
    "get_day = pipeable(lambda soup: soup\n",
    "    >> (find('a', attrs={'class':'start-picker'}))\n",
    "    >> get_text\n",
    "    >> split(',')\n",
    "    >> tlz.get(0)\n",
    ")"
   ]
  },
  {
   "cell_type": "code",
   "execution_count": 23,
   "metadata": {},
   "outputs": [],
   "source": [
    "remove_dj = pipeable(lambda s: s.replace('DJ: ',''))\n",
    "get_dj = pipeable(lambda soup: soup\n",
    " >> find('h5', attrs = {'class':'currentDj'})\n",
    " >> get_text\n",
    " >> remove_dj\n",
    ")"
   ]
  },
  {
   "cell_type": "code",
   "execution_count": 25,
   "metadata": {},
   "outputs": [],
   "source": [
    "strip = pipeable(lambda s: s.strip())\n",
    "get_period = pipeable( lambda soup: soup\n",
    " >> find('span', attrs = {'class':'hour-header'})\n",
    " >> get_text\n",
    " >> strip\n",
    " >> split(' ')\n",
    " >> tlz.get(1)\n",
    ")"
   ]
  },
  {
   "cell_type": "markdown",
   "metadata": {},
   "source": [
    "# Pull off the song start time\n",
    "\n",
    "1. Inspect the element\n",
    "    1. This one is tricky\n",
    "    2. Time tag does not have a tag, but\n",
    "    3. The surrounding div does have a class\n",
    "2. Identify the html tag and class\n",
    "3. Use `find_all` to make a list of all relevant tags\n",
    "4. Pull off an example case\n",
    "5. Write a function that extracts the start time.\n",
    "6. Write a single pipe to extract the start time.\n",
    "7. Confirm you have the right number of times.\n",
    "8. Package your code in a function called `get_start_time`"
   ]
  },
  {
   "cell_type": "code",
   "execution_count": 9,
   "metadata": {
    "scrolled": true
   },
   "outputs": [
    {
     "output_type": "execute_result",
     "data": {
      "text/plain": [
       "'1:59'"
      ]
     },
     "metadata": {},
     "execution_count": 9
    }
   ],
   "source": [
    "strip_white = pipeable(lambda s: s.strip())\n",
    "(music_page\n",
    ">> find_all('div', attrs={'class':'two columns songTime'})\n",
    ">> tlz.get(0)\n",
    ">> find('time')\n",
    ">> get_text\n",
    ">> strip_white\n",
    ")"
   ]
  },
  {
   "cell_type": "code",
   "execution_count": 10,
   "metadata": {
    "scrolled": false
   },
   "outputs": [],
   "source": [
    "get_start_time = pipeable(lambda soup: soup\n",
    ">> find_all('div', attrs={'class':'two columns songTime'})\n",
    ">> map(find('time'))\n",
    ">> map(get_text)\n",
    ">> map(strip_white)\n",
    ")"
   ]
  },
  {
   "cell_type": "code",
   "execution_count": 11,
   "metadata": {
    "scrolled": true
   },
   "outputs": [
    {
     "output_type": "execute_result",
     "data": {
      "text/plain": [
       "['1:59',\n",
       " '1:54',\n",
       " '1:49',\n",
       " '1:46',\n",
       " '1:41',\n",
       " '1:37',\n",
       " '1:33',\n",
       " '1:29',\n",
       " '1:25',\n",
       " '1:22',\n",
       " '1:15',\n",
       " '1:11',\n",
       " '1:08',\n",
       " '1:05',\n",
       " '1:01']"
      ]
     },
     "metadata": {},
     "execution_count": 11
    }
   ],
   "source": [
    "music_page >> get_start_time"
   ]
  },
  {
   "cell_type": "code",
   "execution_count": null,
   "metadata": {
    "scrolled": true
   },
   "outputs": [],
   "source": []
  },
  {
   "cell_type": "code",
   "execution_count": null,
   "metadata": {
    "scrolled": true
   },
   "outputs": [],
   "source": []
  },
  {
   "cell_type": "code",
   "execution_count": null,
   "metadata": {
    "scrolled": true
   },
   "outputs": [],
   "source": []
  },
  {
   "cell_type": "code",
   "execution_count": null,
   "metadata": {
    "scrolled": false
   },
   "outputs": [],
   "source": []
  },
  {
   "cell_type": "markdown",
   "metadata": {},
   "source": [
    "# Pull address of the album art image address\n",
    "\n",
    "Follow a similar process to pull off the web address of the album cover image. \n"
   ]
  },
  {
   "cell_type": "code",
   "execution_count": 16,
   "metadata": {
    "scrolled": true
   },
   "outputs": [
    {
     "output_type": "execute_result",
     "data": {
      "text/plain": [
       "['/assets/album-cover-default-32217dc68a771f3a44aa2b7a640cf91133b61bd1f2ae68c9ddb00055e9a8ac1d.png',\n",
       " 'https://albumart.publicradio.org/mb/c0/c0eca407-b41b-49b3-9277-66570058f646_0c9a.jpg',\n",
       " 'https://albumart.publicradio.org/mb/75/75f62ce7-2b19-4e54-8e53-c043eb847650_0b83.jpg',\n",
       " 'https://albumart.publicradio.org/mb/57/57d19210-34e4-4a25-9312-e5f3dd07b80b_0fb9.jpg',\n",
       " 'https://albumart.publicradio.org/mb/36/36172f3d-9b55-37f1-9fd4-0cbd2f3af0ce_ead1.jpg',\n",
       " 'https://albumart.publicradio.org/mb/d3/d316a2ca-36aa-46ec-9e05-045eefa69d61_2afb.jpg',\n",
       " '/assets/album-cover-default-32217dc68a771f3a44aa2b7a640cf91133b61bd1f2ae68c9ddb00055e9a8ac1d.png',\n",
       " '/assets/album-cover-default-32217dc68a771f3a44aa2b7a640cf91133b61bd1f2ae68c9ddb00055e9a8ac1d.png',\n",
       " 'https://albumart.publicradio.org/mb/5b/5be3d9c3-28d1-3363-9c18-80d02d1d5b0e_15c4.jpg',\n",
       " 'https://albumart.publicradio.org/mb/c5/c57c63e1-b367-489a-a75f-ddd711e91174_7cf9.jpg',\n",
       " 'https://albumart.publicradio.org/mb/b0/b059890c-d415-3e65-aaed-52c810565922_dab5.jpg',\n",
       " 'https://albumart.publicradio.org/mb/b9/b9e21ece-659f-446b-ad4a-d95201ae2ff7_dfc1.jpg',\n",
       " 'https://albumart.publicradio.org/mb/61/61e824d4-9980-4d5c-a696-e6233c1bc239_1d15.jpg',\n",
       " 'https://albumart.publicradio.org/mb/2a/2af7ae1d-2b48-4940-92c3-c11b8fcd2b9b_7391.jpg',\n",
       " 'https://albumart.publicradio.org/mb/a7/a73f5707-e5a3-3dbd-94b3-bd84ccc828d8_85fc.jpg']"
      ]
     },
     "metadata": {},
     "execution_count": 16
    }
   ],
   "source": [
    "img_source = pipeable(lambda s: (s >> tlz.get('src')) if len(s >> tlz.get('src')) > 0 else (s >> tlz.get('data-src')))\n",
    "(music_page\n",
    ">> find_all('img', attrs={'class':'album-art'})\n",
    ">> map(img_source)\n",
    ")"
   ]
  },
  {
   "cell_type": "code",
   "execution_count": 20,
   "metadata": {
    "scrolled": false
   },
   "outputs": [],
   "source": [
    "get_album_art = pipeable(lambda soup: soup\n",
    ">> find_all('img', attrs={'class':'album-art'})\n",
    ">> map(img_source)\n",
    ")"
   ]
  },
  {
   "cell_type": "code",
   "execution_count": 13,
   "metadata": {
    "scrolled": true
   },
   "outputs": [
    {
     "output_type": "execute_result",
     "data": {
      "text/plain": [
       "['/assets/album-cover-default-32217dc68a771f3a44aa2b7a640cf91133b61bd1f2ae68c9ddb00055e9a8ac1d.png',\n",
       " 'https://albumart.publicradio.org/mb/c0/c0eca407-b41b-49b3-9277-66570058f646_0c9a.jpg',\n",
       " 'https://albumart.publicradio.org/mb/75/75f62ce7-2b19-4e54-8e53-c043eb847650_0b83.jpg',\n",
       " 'https://albumart.publicradio.org/mb/57/57d19210-34e4-4a25-9312-e5f3dd07b80b_0fb9.jpg',\n",
       " 'https://albumart.publicradio.org/mb/36/36172f3d-9b55-37f1-9fd4-0cbd2f3af0ce_ead1.jpg',\n",
       " 'https://albumart.publicradio.org/mb/d3/d316a2ca-36aa-46ec-9e05-045eefa69d61_2afb.jpg',\n",
       " '/assets/album-cover-default-32217dc68a771f3a44aa2b7a640cf91133b61bd1f2ae68c9ddb00055e9a8ac1d.png',\n",
       " '/assets/album-cover-default-32217dc68a771f3a44aa2b7a640cf91133b61bd1f2ae68c9ddb00055e9a8ac1d.png',\n",
       " 'https://albumart.publicradio.org/mb/5b/5be3d9c3-28d1-3363-9c18-80d02d1d5b0e_15c4.jpg',\n",
       " 'https://albumart.publicradio.org/mb/c5/c57c63e1-b367-489a-a75f-ddd711e91174_7cf9.jpg',\n",
       " 'https://albumart.publicradio.org/mb/b0/b059890c-d415-3e65-aaed-52c810565922_dab5.jpg',\n",
       " 'https://albumart.publicradio.org/mb/b9/b9e21ece-659f-446b-ad4a-d95201ae2ff7_dfc1.jpg',\n",
       " 'https://albumart.publicradio.org/mb/61/61e824d4-9980-4d5c-a696-e6233c1bc239_1d15.jpg',\n",
       " 'https://albumart.publicradio.org/mb/2a/2af7ae1d-2b48-4940-92c3-c11b8fcd2b9b_7391.jpg',\n",
       " 'https://albumart.publicradio.org/mb/a7/a73f5707-e5a3-3dbd-94b3-bd84ccc828d8_85fc.jpg']"
      ]
     },
     "metadata": {},
     "execution_count": 13
    }
   ],
   "source": [
    "music_page >> get_album_art"
   ]
  },
  {
   "cell_type": "code",
   "execution_count": null,
   "metadata": {
    "scrolled": true
   },
   "outputs": [],
   "source": []
  },
  {
   "cell_type": "code",
   "execution_count": null,
   "metadata": {
    "scrolled": true
   },
   "outputs": [],
   "source": []
  },
  {
   "cell_type": "code",
   "execution_count": null,
   "metadata": {
    "scrolled": true
   },
   "outputs": [],
   "source": []
  },
  {
   "cell_type": "code",
   "execution_count": null,
   "metadata": {
    "scrolled": false
   },
   "outputs": [],
   "source": []
  },
  {
   "cell_type": "markdown",
   "metadata": {},
   "source": [
    "# Putting it all together\n",
    "\n",
    "* Make a function for each of the previous steps\n",
    "* Make an overall function\n",
    "    * input is a soup\n",
    "    * output is a list of lists\n",
    "\n",
    "**Hint:** You should use `zip` to put all the information together."
   ]
  },
  {
   "cell_type": "code",
   "execution_count": 36,
   "metadata": {},
   "outputs": [],
   "source": [
    "def get_all_songs_info(soup):\n",
    "    \"\"\" \n",
    "    given a webpage of TheCurrent website, finds all the songs and information for that day\n",
    "    ARGS: html.parser soup item\n",
    "    returns: list of lists of song data\n",
    "    \"\"\"\n",
    "    album_art = get_album_art(soup)\n",
    "    artist = get_artist(soup)\n",
    "    day = get_day(soup)\n",
    "    dj = get_dj(soup)\n",
    "    period = get_period(soup)\n",
    "    start_time = get_start_time(soup)\n",
    "    title = get_title(soup)\n",
    "    output = [(day, start_time, period, title, artist, album_art, dj) \n",
    "        for start_time, title, artist, album_art in zip(start_time, title, artist, album_art)]\n",
    "    return output"
   ]
  },
  {
   "cell_type": "code",
   "execution_count": 17,
   "metadata": {},
   "outputs": [
    {
     "output_type": "execute_result",
     "data": {
      "text/plain": [
       "[(1, 4), (2, 5), (3, 6)]"
      ]
     },
     "metadata": {},
     "execution_count": 17
    }
   ],
   "source": [
    "l = [1,2,3]\n",
    "m = [4,5,6]\n",
    "list(zip(l,m))"
   ]
  },
  {
   "cell_type": "code",
   "execution_count": 37,
   "metadata": {},
   "outputs": [
    {
     "output_type": "execute_result",
     "data": {
      "text/plain": [
       "[('Tuesday',\n",
       "  '1:59',\n",
       "  'am',\n",
       "  'Kill The Fun',\n",
       "  'Haley Bonar',\n",
       "  '/assets/album-cover-default-32217dc68a771f3a44aa2b7a640cf91133b61bd1f2ae68c9ddb00055e9a8ac1d.png',\n",
       "  'Jade'),\n",
       " ('Tuesday',\n",
       "  '1:54',\n",
       "  'am',\n",
       "  'Artifact #1',\n",
       "  'Conor Oberst',\n",
       "  'https://albumart.publicradio.org/mb/c0/c0eca407-b41b-49b3-9277-66570058f646_0c9a.jpg',\n",
       "  'Jade'),\n",
       " ('Tuesday',\n",
       "  '1:49',\n",
       "  'am',\n",
       "  'Gooey',\n",
       "  'Glass Animals',\n",
       "  'https://albumart.publicradio.org/mb/75/75f62ce7-2b19-4e54-8e53-c043eb847650_0b83.jpg',\n",
       "  'Jade'),\n",
       " ('Tuesday',\n",
       "  '1:46',\n",
       "  'am',\n",
       "  'The Puritan',\n",
       "  'Blur',\n",
       "  'https://albumart.publicradio.org/mb/57/57d19210-34e4-4a25-9312-e5f3dd07b80b_0fb9.jpg',\n",
       "  'Jade'),\n",
       " ('Tuesday',\n",
       "  '1:41',\n",
       "  'am',\n",
       "  \"You're All I've Got Tonight\",\n",
       "  'The Cars',\n",
       "  'https://albumart.publicradio.org/mb/36/36172f3d-9b55-37f1-9fd4-0cbd2f3af0ce_ead1.jpg',\n",
       "  'Jade'),\n",
       " ('Tuesday',\n",
       "  '1:37',\n",
       "  'am',\n",
       "  'No One Is Lost',\n",
       "  'Stars',\n",
       "  'https://albumart.publicradio.org/mb/d3/d316a2ca-36aa-46ec-9e05-045eefa69d61_2afb.jpg',\n",
       "  'Jade'),\n",
       " ('Tuesday',\n",
       "  '1:33',\n",
       "  'am',\n",
       "  'Moon When the Cherries Turn Black',\n",
       "  'The Pines',\n",
       "  '/assets/album-cover-default-32217dc68a771f3a44aa2b7a640cf91133b61bd1f2ae68c9ddb00055e9a8ac1d.png',\n",
       "  'Jade'),\n",
       " ('Tuesday',\n",
       "  '1:29',\n",
       "  'am',\n",
       "  'Colorado',\n",
       "  'Chastity Brown',\n",
       "  '/assets/album-cover-default-32217dc68a771f3a44aa2b7a640cf91133b61bd1f2ae68c9ddb00055e9a8ac1d.png',\n",
       "  'Jade'),\n",
       " ('Tuesday',\n",
       "  '1:25',\n",
       "  'am',\n",
       "  'Never, Never Gonna Give You Up',\n",
       "  'Barry White',\n",
       "  'https://albumart.publicradio.org/mb/5b/5be3d9c3-28d1-3363-9c18-80d02d1d5b0e_15c4.jpg',\n",
       "  'Jade'),\n",
       " ('Tuesday',\n",
       "  '1:22',\n",
       "  'am',\n",
       "  'Trainwreck 1979',\n",
       "  'Death From Above 1979',\n",
       "  'https://albumart.publicradio.org/mb/c5/c57c63e1-b367-489a-a75f-ddd711e91174_7cf9.jpg',\n",
       "  'Jade'),\n",
       " ('Tuesday',\n",
       "  '1:15',\n",
       "  'am',\n",
       "  'My Girls',\n",
       "  'Animal Collective',\n",
       "  'https://albumart.publicradio.org/mb/b0/b059890c-d415-3e65-aaed-52c810565922_dab5.jpg',\n",
       "  'Jade'),\n",
       " ('Tuesday',\n",
       "  '1:11',\n",
       "  'am',\n",
       "  'BOYTROUBLE feat. Lizzo',\n",
       "  'Prince and 3RDEYEGIRL',\n",
       "  'https://albumart.publicradio.org/mb/b9/b9e21ece-659f-446b-ad4a-d95201ae2ff7_dfc1.jpg',\n",
       "  'Jade'),\n",
       " ('Tuesday',\n",
       "  '1:08',\n",
       "  'am',\n",
       "  'White Lies',\n",
       "  'Max Frost',\n",
       "  'https://albumart.publicradio.org/mb/61/61e824d4-9980-4d5c-a696-e6233c1bc239_1d15.jpg',\n",
       "  'Jade'),\n",
       " ('Tuesday',\n",
       "  '1:05',\n",
       "  'am',\n",
       "  'Beware the Dog',\n",
       "  'The Griswolds',\n",
       "  'https://albumart.publicradio.org/mb/2a/2af7ae1d-2b48-4940-92c3-c11b8fcd2b9b_7391.jpg',\n",
       "  'Jade'),\n",
       " ('Tuesday',\n",
       "  '1:01',\n",
       "  'am',\n",
       "  'Knock Me Down',\n",
       "  'Red Hot Chili Peppers',\n",
       "  'https://albumart.publicradio.org/mb/a7/a73f5707-e5a3-3dbd-94b3-bd84ccc828d8_85fc.jpg',\n",
       "  'Jade')]"
      ]
     },
     "metadata": {},
     "execution_count": 37
    }
   ],
   "source": [
    "get_all_songs_info(music_page)"
   ]
  },
  {
   "cell_type": "code",
   "execution_count": null,
   "metadata": {},
   "outputs": [],
   "source": []
  },
  {
   "cell_type": "code",
   "execution_count": null,
   "metadata": {},
   "outputs": [],
   "source": []
  }
 ],
 "metadata": {
  "anaconda-cloud": {},
  "kernelspec": {
   "display_name": "Python 3",
   "language": "python",
   "name": "python3"
  },
  "language_info": {
   "codemirror_mode": {
    "name": "ipython",
    "version": 3
   },
   "file_extension": ".py",
   "mimetype": "text/x-python",
   "name": "python",
   "nbconvert_exporter": "python",
   "pygments_lexer": "ipython3",
   "version": "3.7.6-final"
  }
 },
 "nbformat": 4,
 "nbformat_minor": 1
}