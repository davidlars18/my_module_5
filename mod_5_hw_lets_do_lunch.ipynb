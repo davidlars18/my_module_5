{
 "cells": [
  {
   "cell_type": "markdown",
   "metadata": {},
   "source": [
    "# Module 5 Homework - Let's Get Lunch\n",
    "\n",
    "Suppose we are looking for a good place for lunch on our next trip to La Crosse. Let's collect some data on nearby restaurants."
   ]
  },
  {
   "cell_type": "markdown",
   "metadata": {},
   "source": [
    "## <font color=\"red\"> Problem 1 </font>\n",
    "\n",
    "Goto yelp.com and perform a search with the following parameters\n",
    "\n",
    "* **Find** Restaurants\n",
    "* **Near** La Crosse, WI\n",
    "\n",
    "**Tasks**\n",
    "1. Copy the resulting web address below and determine the how the     specified search terms related to the resulting address\n",
    "2. Use requests and Beautiful Soap to download the content of the front page."
   ]
  },
  {
   "cell_type": "code",
   "execution_count": 2,
   "metadata": {},
   "outputs": [],
   "source": [
    "# Import modules here\n",
    "from composablesoup import find, find_all, get_text, has_attr\n",
    "from composable.sequence import slice, head\n",
    "from composable.strict import map, filter\n",
    "from composable.string import replace, split\n",
    "from composable import pipeable\n",
    "from composable import from_toolz as tlz\n",
    "from composablesoup.soup import find_parent, parents, children, find_previous_sibling, find_previous_siblings, find_next_sibling, find_next_siblings, find_previous_sibling\n",
    "import requests\n",
    "import re as r\n",
    "from bs4 import BeautifulSoup"
   ]
  },
  {
   "cell_type": "code",
   "execution_count": 3,
   "metadata": {},
   "outputs": [],
   "source": [
    "# Get and process the Yelp search\n",
    "s = requests.Session()\n",
    "r = s.get('https://www.yelp.com/search?find_desc=Restaurants&find_loc=La%20Crosse%2C%20WI')\n",
    "lunch = BeautifulSoup(r.content, 'html.parser')\n",
    "\n",
    "# in URL, find_desc= refers to description (I entered Restaurants), \n",
    "# and find_loc= refers to near what location (I entered La Crosse, WI). \n",
    "# It seems that %20 is a 'space' character, and %2C is a ',' character"
   ]
  },
  {
   "cell_type": "markdown",
   "metadata": {
    "collapsed": true
   },
   "source": [
    "## <font color=\"red\"> Problem 2 </font>\n",
    "\n",
    "We want to grab the restaurant's name.\n",
    "\n",
    "1. Use Inspect Element to determine the tags/classes for each of the elements listed above.  \n",
    "2. Note that all the business information is contained in a`div` that contains a class similar to  `<div class=\" ... businessName__09f24__3Wql2 ...\">`.  You will need to use a regular expression to match the `businessName` in the class (see lecture 5.3).\n",
    "3. Write expressions/functions to pull out the name of each restaurant.  \n",
    "    * Note: The business name is in an unnamed tag, you will need to navigate to the using searches and/or relationship\n",
    " \n",
    "**Confirm that there is an extra restaurant in the list (e.g. 11-12 instead of 10). This is due to an advertisement/sponsered links, which we want to ignore.**"
   ]
  },
  {
   "cell_type": "code",
   "execution_count": 4,
   "metadata": {},
   "outputs": [
    {
     "output_type": "execute_result",
     "data": {
      "text/plain": [
       "['Pappi’s Taqueria y Mas',\n",
       " 'The Waterfront Restaurant & Tavern',\n",
       " 'Restore Public House',\n",
       " 'Buzzard Billy’s',\n",
       " 'Lovechild Restaurant',\n",
       " 'Howie’s on La Crosse',\n",
       " 'The Charmant',\n",
       " 'The Freighthouse Restaurant',\n",
       " 'The Crow',\n",
       " 'Schuby’s Neighborhood Butcher',\n",
       " 'Piggy’s Restaurant']"
      ]
     },
     "metadata": {},
     "execution_count": 4
    }
   ],
   "source": [
    "(\n",
    "    lunch\n",
    "    >> find_all('div', attrs={'class':'businessName__09f24__3Wql2 display--inline-block__09f24__FsgS4 border-color--default__09f24__R1nRO'})\n",
    "    >> map(find('a'))\n",
    "    >> map(get_text)\n",
    ")\n",
    "\n",
    "# Pappi's Taqueria y Mas is extra"
   ]
  },
  {
   "cell_type": "code",
   "execution_count": 6,
   "metadata": {},
   "outputs": [],
   "source": [
    "import re as r\n",
    "rest_name = r.compile(r'(\\d+\\.)(.*)')\n",
    "check_rest_name = pipeable(lambda s: rest_name.match(s) if rest_name.match(s) else None)\n",
    "just_name = pipeable(lambda s: s.split()[0].strip() if check_rest_name(s) != None else None)\n",
    "\n",
    "get_restaurant_name = pipeable(lambda soup: \n",
    "soup\n",
    "    >> find_all('div', attrs={'class':'businessName__09f24__3Wql2 display--inline-block__09f24__FsgS4 border-color--default__09f24__R1nRO'})\n",
    "    >> map(get_text)\n",
    "    >> map(just_name)\n",
    ")\n",
    "# this leaves the first one which must be some sort of advertisement"
   ]
  },
  {
   "cell_type": "code",
   "execution_count": 7,
   "metadata": {},
   "outputs": [
    {
     "output_type": "execute_result",
     "data": {
      "text/plain": [
       "[None, '1.', '2.', '3.', '4.', '5.', '6.', '7.', '8.', '9.', '10.']"
      ]
     },
     "metadata": {},
     "execution_count": 7
    }
   ],
   "source": [
    "lunch >> get_restaurant_name"
   ]
  },
  {
   "cell_type": "code",
   "execution_count": 8,
   "metadata": {},
   "outputs": [],
   "source": [
    "def get_rest_name(soup):\n",
    "    \"\"\"\n",
    "    \"\"\"\n",
    "    lis = (soup\n",
    "    >> find_all('div', attrs={'class':'businessName__09f24__3Wql2 display--inline-block__09f24__FsgS4 border-color--default__09f24__R1nRO'})\n",
    "    >> map(get_text)\n",
    "    >> map(just_name)\n",
    "    )\n",
    "    names = [s for s in lis if type(s) != None]\n",
    "\n",
    "    return names"
   ]
  },
  {
   "cell_type": "code",
   "execution_count": 9,
   "metadata": {},
   "outputs": [
    {
     "output_type": "execute_result",
     "data": {
      "text/plain": [
       "[None, '1.', '2.', '3.', '4.', '5.', '6.', '7.', '8.', '9.', '10.']"
      ]
     },
     "metadata": {},
     "execution_count": 9
    }
   ],
   "source": [
    "get_rest_name(lunch)"
   ]
  },
  {
   "cell_type": "code",
   "execution_count": 10,
   "metadata": {},
   "outputs": [
    {
     "output_type": "execute_result",
     "data": {
      "text/plain": [
       "['1. The Waterfront Restaurant & Tavern',\n",
       " '2. Restore Public House',\n",
       " '3. Buzzard Billy’s',\n",
       " '4. Lovechild Restaurant',\n",
       " '5. Howie’s on La Crosse',\n",
       " '6. The Charmant',\n",
       " '7. The Freighthouse Restaurant',\n",
       " '8. The Crow',\n",
       " '9. Schuby’s Neighborhood Butcher',\n",
       " '10. Piggy’s Restaurant']"
      ]
     },
     "metadata": {},
     "execution_count": 10
    }
   ],
   "source": [
    "fix_name = pipeable(lambda s: s.replace('\\xa0', ' '))\n",
    "list = (lunch\n",
    "    >> find_all('div', attrs={'class':'businessName__09f24__3Wql2 display--inline-block__09f24__FsgS4 border-color--default__09f24__R1nRO'})\n",
    "    >> map(get_text)\n",
    ")\n",
    "names = (list[1:]\n",
    "    >> map(fix_name)\n",
    ")\n",
    "names"
   ]
  },
  {
   "cell_type": "markdown",
   "metadata": {},
   "source": [
    "## <font color=\"red\"> Problem 3 </font>\n",
    "\n",
    "Since we picked up extra information, we will need to be clever about identifying the information block for each restaurant.  Note that all of the actual search results (but not sponsered links) start with the ranking (e.g. `11.`).  Use the following steps to get a list that contains the information for each restaurant other than the adds.\n",
    "\n",
    "1. Start by finding the ranking of the restaurant (1., 2., etc.). **Hint:** You will need to use regular expression to match the text of the tag (see lecture 5.3).\n",
    "2. Now search for a parent of the above tags that surrounds all of the restaurant information.  You will want to use the `find_parent` method on each of the tags from **1.**.  **Hint:** Look through each of the `div` tags that contain the ranking, looking for a meaningful tag name to match with a regular expression.\n",
    "\n",
    "The resulting list will be the starting point for gathering all of the information."
   ]
  },
  {
   "cell_type": "code",
   "execution_count": 11,
   "metadata": {},
   "outputs": [],
   "source": [
    "drop_first = pipeable(lambda s: tlz.drop(1, s))\n",
    "start = (lunch\n",
    ">> find_all('div', attrs={'class':'businessName__09f24__3Wql2 display--inline-block__09f24__FsgS4 border-color--default__09f24__R1nRO'})\n",
    ">> map(find_parent(name='div', attrs={'class':'scrollablePhotos__09f24__1PpB8 arrange__09f24__AiSIM border-color--default__09f24__R1nRO'}))\n",
    ">> drop_first\n",
    ")"
   ]
  },
  {
   "cell_type": "code",
   "execution_count": 12,
   "metadata": {},
   "outputs": [
    {
     "output_type": "execute_result",
     "data": {
      "text/plain": [
       "['1.\\xa0The Waterfront Restaurant & Tavern226$$$American (New), Seafood, Steakhouses(608) 782-5400328 Front St S',\n",
       " '2.\\xa0Restore Public House17American (Traditional)(608) 782-52101810 State St',\n",
       " '3.\\xa0Buzzard Billy’s277$$American (Traditional), Cajun/Creole(608) 796-2277222 Pearl St',\n",
       " '4.\\xa0Lovechild Restaurant109$$$American (New)(608) 433-2234300 3rd St S',\n",
       " '5.\\xa0Howie’s on La Crosse57$$American (New), Pubs(608) 784-74001128 La Crosse St',\n",
       " '6.\\xa0The Charmant149$$French, Cocktail Bars(608) 519-8830101 State St',\n",
       " '7.\\xa0The Freighthouse Restaurant125$$$Seafood, Steakhouses, Desserts(608) 784-6211107 Vine St',\n",
       " '8.\\xa0The Crow154$$American (Traditional), Gastropubs(608) 519-5400100 3rd St S',\n",
       " '9.\\xa0Schuby’s Neighborhood Butcher17$$Butcher, Delis, Caterers(608) 615-1076321 State St',\n",
       " '10.\\xa0Piggy’s Restaurant131$$Steakhouses, Seafood, Sandwiches(608) 784-4877501 Front St S']"
      ]
     },
     "metadata": {},
     "execution_count": 12
    }
   ],
   "source": [
    "start >> map(get_text)"
   ]
  },
  {
   "cell_type": "markdown",
   "metadata": {},
   "source": [
    "## <font color=\"red\"> Problem 4 </font>\n",
    "\n",
    "Write expressions/functions to gather each of the following pieces of information for each of the restaurants."
   ]
  },
  {
   "cell_type": "markdown",
   "metadata": {},
   "source": [
    "#### Restaurant Name"
   ]
  },
  {
   "cell_type": "code",
   "execution_count": 13,
   "metadata": {},
   "outputs": [],
   "source": [
    "get_restaurant_name = pipeable(lambda soup:(soup\n",
    ">> find_all('div', attrs={'class':'businessName__09f24__3Wql2 display--inline-block__09f24__FsgS4 border-color--default__09f24__R1nRO'})\n",
    ">> map(find_parent(name='div', attrs={'class':'scrollablePhotos__09f24__1PpB8 arrange__09f24__AiSIM border-color--default__09f24__R1nRO'}))\n",
    ">> map(find('div', attrs={'class':'businessName__09f24__3Wql2 display--inline-block__09f24__FsgS4 border-color--default__09f24__R1nRO'}))\n",
    ">> map(find('a'))\n",
    ">> drop_first\n",
    ">> map(get_text)\n",
    "))"
   ]
  },
  {
   "cell_type": "code",
   "execution_count": 14,
   "metadata": {},
   "outputs": [
    {
     "output_type": "execute_result",
     "data": {
      "text/plain": [
       "['The Waterfront Restaurant & Tavern',\n",
       " 'Restore Public House',\n",
       " 'Buzzard Billy’s',\n",
       " 'Lovechild Restaurant',\n",
       " 'Howie’s on La Crosse',\n",
       " 'The Charmant',\n",
       " 'The Freighthouse Restaurant',\n",
       " 'The Crow',\n",
       " 'Schuby’s Neighborhood Butcher',\n",
       " 'Piggy’s Restaurant']"
      ]
     },
     "metadata": {},
     "execution_count": 14
    }
   ],
   "source": [
    "lunch >> get_restaurant_name"
   ]
  },
  {
   "cell_type": "markdown",
   "metadata": {},
   "source": [
    "#### Rating"
   ]
  },
  {
   "cell_type": "code",
   "execution_count": 15,
   "metadata": {},
   "outputs": [],
   "source": [
    "rating_regex = r.compile(r'\\d\\.?\\d?\\sstar\\srating')\n",
    "get_stars = pipeable(lambda s: find(soup=s, name='div', attrs={'aria-label':rating_regex})['aria-label'] if (s >> find('div', attrs={'aria-label':rating_regex})) != None else 'No rating')\n",
    "\n",
    "get_rating = pipeable(lambda soup:(soup\n",
    ">> find_all('div', attrs={'class':'businessName__09f24__3Wql2 display--inline-block__09f24__FsgS4 border-color--default__09f24__R1nRO'})\n",
    ">> map(find_parent(name='div', attrs={'class':'scrollablePhotos__09f24__1PpB8 arrange__09f24__AiSIM border-color--default__09f24__R1nRO'}))\n",
    ">> drop_first\n",
    ">> map(get_stars)\n",
    "))"
   ]
  },
  {
   "cell_type": "code",
   "execution_count": 16,
   "metadata": {},
   "outputs": [
    {
     "output_type": "execute_result",
     "data": {
      "text/plain": [
       "['4.5 star rating',\n",
       " '4.5 star rating',\n",
       " '4 star rating',\n",
       " '4.5 star rating',\n",
       " '4 star rating',\n",
       " '4.5 star rating',\n",
       " '4 star rating',\n",
       " '3.5 star rating',\n",
       " '4.5 star rating',\n",
       " '4 star rating']"
      ]
     },
     "metadata": {},
     "execution_count": 16
    }
   ],
   "source": [
    "lunch >> get_rating"
   ]
  },
  {
   "cell_type": "markdown",
   "metadata": {},
   "source": [
    "#### Address"
   ]
  },
  {
   "cell_type": "code",
   "execution_count": 17,
   "metadata": {},
   "outputs": [],
   "source": [
    "address_missing = pipeable(lambda s: (s >> find('address') >> get_text) if (s >> find('address')) != None else '')\n",
    "\n",
    "\n",
    "get_address = pipeable(lambda soup:(soup\n",
    ">> find_all('div', attrs={'class':'businessName__09f24__3Wql2 display--inline-block__09f24__FsgS4 border-color--default__09f24__R1nRO'})\n",
    ">> map(find_parent(name='div', attrs={'class':'scrollablePhotos__09f24__1PpB8 arrange__09f24__AiSIM border-color--default__09f24__R1nRO'}))\n",
    ">> drop_first\n",
    ">> map(address_missing)\n",
    "))\n",
    "#<div class=\" secondaryAttributes__09f24__3db5x arrange-unit__09f24__1gZC1 border-color--default__09f24__R1nRO\"><div class=\" container__09f24__1fWZl padding-l2__09f24__2MHQ3 border-color--default__09f24__R1nRO text-align--right__09f24__wJEQr\"><div class=\" border-color--default__09f24__R1nRO\"><div class=\" display--inline-block__09f24__FsgS4 border-color--default__09f24__R1nRO\"><div class=\" border-color--default__09f24__R1nRO\"><p class=\" text__09f24__2tZKC text-color--black-extra-light__09f24__38DtK text-align--right__09f24__1TIxB text-size--small__09f24__1Z_UI\">(608) 782-5400</p></div></div></div><address class=\"\"><div class=\" border-color--default__09f24__R1nRO\"><div class=\" display--inline-block__09f24__FsgS4 border-color--default__09f24__R1nRO\"><div class=\" border-color--default__09f24__R1nRO\"><p class=\" text__09f24__2tZKC text-color--black-extra-light__09f24__38DtK text-align--right__09f24__1TIxB text-size--small__09f24__1Z_UI\"><span class=\" raw__09f24__3Obuy\">328 Front St S</span></p></div></div></div></address><div class=\" margin-b1__09f24__1647o border-color--default__09f24__R1nRO\"></div></div></div>"
   ]
  },
  {
   "cell_type": "code",
   "execution_count": 18,
   "metadata": {},
   "outputs": [
    {
     "output_type": "execute_result",
     "data": {
      "text/plain": [
       "['328 Front St S',\n",
       " '1810 State St',\n",
       " '222 Pearl St',\n",
       " '300 3rd St S',\n",
       " '1128 La Crosse St',\n",
       " '101 State St',\n",
       " '107 Vine St',\n",
       " '100 3rd St S',\n",
       " '321 State St',\n",
       " '501 Front St S']"
      ]
     },
     "metadata": {},
     "execution_count": 18
    }
   ],
   "source": [
    "lunch >> get_address"
   ]
  },
  {
   "cell_type": "markdown",
   "metadata": {},
   "source": [
    "#### Review Count"
   ]
  },
  {
   "cell_type": "code",
   "execution_count": 19,
   "metadata": {},
   "outputs": [],
   "source": [
    "num_reviews_missing = pipeable(lambda s: (s >> find('span', attrs={'class':'text__09f24__2tZKC reviewCount__09f24__EUXPN text-color--black-extra-light__09f24__38DtK text-align--left__09f24__3Drs0'}) >> get_text) if (s >> find('span', attrs={'class':'text__09f24__2tZKC reviewCount__09f24__EUXPN text-color--black-extra-light__09f24__38DtK text-align--left__09f24__3Drs0'})) != None else '0')\n",
    "\n",
    "get_num_reviews = pipeable(lambda soup:(soup\n",
    ">> find_all('div', attrs={'class':'businessName__09f24__3Wql2 display--inline-block__09f24__FsgS4 border-color--default__09f24__R1nRO'})\n",
    ">> map(find_parent(name='div', attrs={'class':'scrollablePhotos__09f24__1PpB8 arrange__09f24__AiSIM border-color--default__09f24__R1nRO'}))\n",
    ">> drop_first\n",
    ">> map(num_reviews_missing)\n",
    "))"
   ]
  },
  {
   "cell_type": "code",
   "execution_count": 20,
   "metadata": {},
   "outputs": [
    {
     "output_type": "execute_result",
     "data": {
      "text/plain": [
       "['226', '17', '277', '109', '57', '149', '125', '154', '17', '131']"
      ]
     },
     "metadata": {},
     "execution_count": 20
    }
   ],
   "source": [
    "lunch >> get_num_reviews"
   ]
  },
  {
   "cell_type": "markdown",
   "metadata": {},
   "source": [
    "#### Category\n",
    "\n",
    "**Examples:** `['American (New)', 'Seafood', 'Steakhouses']` becomes `'American (New);Seafood;Steakhouses'`"
   ]
  },
  {
   "cell_type": "code",
   "execution_count": 21,
   "metadata": {
    "scrolled": true
   },
   "outputs": [],
   "source": [
    "combine_categories = pipeable(lambda s: ';'.join(s))\n",
    "\n",
    "get_category = pipeable(lambda soup:(soup\n",
    ">> find_all('div', attrs={'class':'businessName__09f24__3Wql2 display--inline-block__09f24__FsgS4 border-color--default__09f24__R1nRO'})\n",
    ">> map(find_parent(name='div', attrs={'class':'scrollablePhotos__09f24__1PpB8 arrange__09f24__AiSIM border-color--default__09f24__R1nRO'}))\n",
    ">> drop_first\n",
    ">> map(find('div', attrs={'class':'priceCategory__09f24__2IbAM display--inline-block__09f24__FsgS4 border-color--default__09f24__R1nRO'}))\n",
    ">> map(find_all('a'))\n",
    ">> map(map(get_text))\n",
    ">> map(combine_categories)\n",
    "))"
   ]
  },
  {
   "cell_type": "code",
   "execution_count": 22,
   "metadata": {},
   "outputs": [
    {
     "output_type": "execute_result",
     "data": {
      "text/plain": [
       "['American (New);Seafood;Steakhouses',\n",
       " 'American (Traditional)',\n",
       " 'American (Traditional);Cajun/Creole',\n",
       " 'American (New)',\n",
       " 'American (New);Pubs',\n",
       " 'French;Cocktail Bars',\n",
       " 'Seafood;Steakhouses;Desserts',\n",
       " 'American (Traditional);Gastropubs',\n",
       " 'Butcher;Delis;Caterers',\n",
       " 'Steakhouses;Seafood;Sandwiches']"
      ]
     },
     "metadata": {},
     "execution_count": 22
    }
   ],
   "source": [
    "lunch >> get_category"
   ]
  },
  {
   "cell_type": "markdown",
   "metadata": {},
   "source": [
    "## <font color=\"red\">  Problem 4 </font>\n",
    "\n",
    "Package all of the expressions in a function that takes a url as input and returns the table of information.  Use a `def` statement and put the above helper functions in the body of the main function.  Test this function on the front page of the search."
   ]
  },
  {
   "cell_type": "code",
   "execution_count": 23,
   "metadata": {},
   "outputs": [],
   "source": [
    "def get_all_restaurant_info(site):\n",
    "    \"\"\" \n",
    "    ARGS: a URL of yelp \n",
    "    returns: list of lists of all restaurant data on page\n",
    "    \"\"\"\n",
    "    s = requests.Session()\n",
    "    r = s.get(site)\n",
    "    soup = BeautifulSoup(r.content, 'html.parser')\n",
    "\n",
    "    restaurant_name = get_restaurant_name(soup)\n",
    "    rating = get_rating(soup)\n",
    "    num_reviews = get_num_reviews(soup)\n",
    "    address = get_address(soup)\n",
    "    category = get_category(soup)\n",
    "    output = [row for row in zip(restaurant_name, rating, num_reviews, address, category)]\n",
    "    return output"
   ]
  },
  {
   "cell_type": "code",
   "execution_count": 24,
   "metadata": {},
   "outputs": [
    {
     "output_type": "execute_result",
     "data": {
      "text/plain": [
       "[('The Waterfront Restaurant & Tavern',\n",
       "  '4.5 star rating',\n",
       "  '226',\n",
       "  '328 Front St S',\n",
       "  'American (New);Seafood;Steakhouses'),\n",
       " ('Restore Public House',\n",
       "  '4.5 star rating',\n",
       "  '17',\n",
       "  '1810 State St',\n",
       "  'American (Traditional)'),\n",
       " ('Buzzard Billy’s',\n",
       "  '4 star rating',\n",
       "  '277',\n",
       "  '222 Pearl St',\n",
       "  'American (Traditional);Cajun/Creole'),\n",
       " ('Lovechild Restaurant',\n",
       "  '4.5 star rating',\n",
       "  '109',\n",
       "  '300 3rd St S',\n",
       "  'American (New)'),\n",
       " ('Howie’s on La Crosse',\n",
       "  '4 star rating',\n",
       "  '57',\n",
       "  '1128 La Crosse St',\n",
       "  'American (New);Pubs'),\n",
       " ('The Charmant',\n",
       "  '4.5 star rating',\n",
       "  '149',\n",
       "  '101 State St',\n",
       "  'French;Cocktail Bars'),\n",
       " ('The Freighthouse Restaurant',\n",
       "  '4 star rating',\n",
       "  '125',\n",
       "  '107 Vine St',\n",
       "  'Seafood;Steakhouses;Desserts'),\n",
       " ('The Crow',\n",
       "  '3.5 star rating',\n",
       "  '154',\n",
       "  '100 3rd St S',\n",
       "  'American (Traditional);Gastropubs'),\n",
       " ('Schuby’s Neighborhood Butcher',\n",
       "  '4.5 star rating',\n",
       "  '17',\n",
       "  '321 State St',\n",
       "  'Butcher;Delis;Caterers'),\n",
       " ('Piggy’s Restaurant',\n",
       "  '4 star rating',\n",
       "  '131',\n",
       "  '501 Front St S',\n",
       "  'Steakhouses;Seafood;Sandwiches')]"
      ]
     },
     "metadata": {},
     "execution_count": 24
    }
   ],
   "source": [
    "get_all_restaurant_info('https://www.yelp.com/search?find_desc=Restaurants&find_loc=La%20Crosse,%20WI')"
   ]
  },
  {
   "cell_type": "markdown",
   "metadata": {},
   "source": [
    "## <font color=\"red\">  Problem 5 </font>\n",
    "\n",
    "Now perform a linear search to grab all of the information on restaurants in La Crosse.  You will need to\n",
    "\n",
    "1. Inspect the url for the first, second, etc. pages to determine the pattern.\n",
    "2. Create a list of urls for all search results.\n",
    "3. Get the info from all pages and use your function from the last problem to parse the data into a list.\n",
    "4. Write the results to a csv file. **Hint:** Use `'a'` (append) instead of `'w'` write on all after the first/"
   ]
  },
  {
   "cell_type": "code",
   "execution_count": 25,
   "metadata": {},
   "outputs": [
    {
     "output_type": "execute_result",
     "data": {
      "text/plain": [
       "['https://www.yelp.com/search?find_desc=Restaurants&find_loc=La%20Crosse%2C%20WI&start=0',\n",
       " 'https://www.yelp.com/search?find_desc=Restaurants&find_loc=La%20Crosse%2C%20WI&start=10',\n",
       " 'https://www.yelp.com/search?find_desc=Restaurants&find_loc=La%20Crosse%2C%20WI&start=20',\n",
       " 'https://www.yelp.com/search?find_desc=Restaurants&find_loc=La%20Crosse%2C%20WI&start=30',\n",
       " 'https://www.yelp.com/search?find_desc=Restaurants&find_loc=La%20Crosse%2C%20WI&start=40',\n",
       " 'https://www.yelp.com/search?find_desc=Restaurants&find_loc=La%20Crosse%2C%20WI&start=50',\n",
       " 'https://www.yelp.com/search?find_desc=Restaurants&find_loc=La%20Crosse%2C%20WI&start=60',\n",
       " 'https://www.yelp.com/search?find_desc=Restaurants&find_loc=La%20Crosse%2C%20WI&start=70',\n",
       " 'https://www.yelp.com/search?find_desc=Restaurants&find_loc=La%20Crosse%2C%20WI&start=80',\n",
       " 'https://www.yelp.com/search?find_desc=Restaurants&find_loc=La%20Crosse%2C%20WI&start=90',\n",
       " 'https://www.yelp.com/search?find_desc=Restaurants&find_loc=La%20Crosse%2C%20WI&start=100',\n",
       " 'https://www.yelp.com/search?find_desc=Restaurants&find_loc=La%20Crosse%2C%20WI&start=110',\n",
       " 'https://www.yelp.com/search?find_desc=Restaurants&find_loc=La%20Crosse%2C%20WI&start=120',\n",
       " 'https://www.yelp.com/search?find_desc=Restaurants&find_loc=La%20Crosse%2C%20WI&start=130',\n",
       " 'https://www.yelp.com/search?find_desc=Restaurants&find_loc=La%20Crosse%2C%20WI&start=140',\n",
       " 'https://www.yelp.com/search?find_desc=Restaurants&find_loc=La%20Crosse%2C%20WI&start=150',\n",
       " 'https://www.yelp.com/search?find_desc=Restaurants&find_loc=La%20Crosse%2C%20WI&start=160',\n",
       " 'https://www.yelp.com/search?find_desc=Restaurants&find_loc=La%20Crosse%2C%20WI&start=170',\n",
       " 'https://www.yelp.com/search?find_desc=Restaurants&find_loc=La%20Crosse%2C%20WI&start=180',\n",
       " 'https://www.yelp.com/search?find_desc=Restaurants&find_loc=La%20Crosse%2C%20WI&start=190',\n",
       " 'https://www.yelp.com/search?find_desc=Restaurants&find_loc=La%20Crosse%2C%20WI&start=200',\n",
       " 'https://www.yelp.com/search?find_desc=Restaurants&find_loc=La%20Crosse%2C%20WI&start=210',\n",
       " 'https://www.yelp.com/search?find_desc=Restaurants&find_loc=La%20Crosse%2C%20WI&start=220',\n",
       " 'https://www.yelp.com/search?find_desc=Restaurants&find_loc=La%20Crosse%2C%20WI&start=230']"
      ]
     },
     "metadata": {},
     "execution_count": 25
    }
   ],
   "source": [
    "base = 'https://www.yelp.com/search?find_desc=Restaurants&find_loc=La%20Crosse%2C%20WI&start={start}'\n",
    "yelps = [base.format(start = h) for h in ['0','10','20','30','40','50','60','70','80','90','100','110','120','130','140','150','160','170','180','190','200','210','220','230']]\n",
    "yelps\n"
   ]
  },
  {
   "cell_type": "code",
   "execution_count": 29,
   "metadata": {},
   "outputs": [],
   "source": [
    "restaurants_list = [get_all_restaurant_info(l) for l in yelps]"
   ]
  },
  {
   "cell_type": "code",
   "execution_count": 27,
   "metadata": {},
   "outputs": [
    {
     "output_type": "execute_result",
     "data": {
      "text/plain": [
       "['The Waterfront Restaurant & Tavern,4.5 star rating,226,328 Front St S,American (New);Seafood;Steakhouses',\n",
       " 'Restore Public House,4.5 star rating,17,1810 State St,American (Traditional)',\n",
       " 'Buzzard Billy’s,4 star rating,277,222 Pearl St,American (Traditional);Cajun/Creole',\n",
       " 'Lovechild Restaurant,4.5 star rating,109,300 3rd St S,American (New)',\n",
       " 'Howie’s on La Crosse,4 star rating,57,1128 La Crosse St,American (New);Pubs',\n",
       " 'The Charmant,4.5 star rating,149,101 State St,French;Cocktail Bars',\n",
       " 'The Freighthouse Restaurant,4 star rating,125,107 Vine St,Seafood;Steakhouses;Desserts',\n",
       " 'The Crow,3.5 star rating,154,100 3rd St S,American (Traditional);Gastropubs',\n",
       " 'Schuby’s Neighborhood Butcher,4.5 star rating,17,321 State St,Butcher;Delis;Caterers',\n",
       " 'Piggy’s Restaurant,4 star rating,131,501 Front St S,Steakhouses;Seafood;Sandwiches']"
      ]
     },
     "metadata": {},
     "execution_count": 27
    }
   ],
   "source": [
    "each_restaurant = [row for restaurants_list in restaurants_list for row in restaurants_list]\n",
    "contents = [','.join(row) for row in each_restaurant]\n",
    "contents[:10]"
   ]
  },
  {
   "cell_type": "code",
   "execution_count": 498,
   "metadata": {},
   "outputs": [],
   "source": [
    "with open('La_Crosse_Restaurants.csv', 'w') as outfile:\n",
    "    header = 'Name,Rating,Number Of Reviews,Address,Category'\n",
    "    print(header, file=outfile)\n",
    "    count = 0\n",
    "    for yelp in yelps:\n",
    "        for line in contents:\n",
    "            print(line, file=outfile)"
   ]
  },
  {
   "cell_type": "markdown",
   "metadata": {},
   "source": [
    "## <font color=\"red\">  Bonus Problem </font>\n",
    "\n",
    "See if you can also grab the latitude and longitude of each result."
   ]
  },
  {
   "cell_type": "code",
   "execution_count": null,
   "metadata": {},
   "outputs": [],
   "source": []
  }
 ],
 "metadata": {
  "anaconda-cloud": {},
  "kernelspec": {
   "display_name": "Python 3",
   "language": "python",
   "name": "python3"
  },
  "language_info": {
   "codemirror_mode": {
    "name": "ipython",
    "version": 3
   },
   "file_extension": ".py",
   "mimetype": "text/x-python",
   "name": "python",
   "nbconvert_exporter": "python",
   "pygments_lexer": "ipython3",
   "version": "3.7.6-final"
  }
 },
 "nbformat": 4,
 "nbformat_minor": 1
}