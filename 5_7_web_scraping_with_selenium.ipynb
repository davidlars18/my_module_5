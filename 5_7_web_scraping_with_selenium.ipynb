{
 "cells": [
  {
   "cell_type": "markdown",
   "metadata": {},
   "source": [
    "# Lecture 5.7 - Web Scraping with Selenium"
   ]
  },
  {
   "cell_type": "code",
   "execution_count": 1,
   "metadata": {},
   "outputs": [],
   "source": [
    "import requests\n",
    "from bs4 import BeautifulSoup\n",
    "\n",
    "s = requests.Session()\n",
    "r = s.get('https://wsu-datascience.github.io/binomial_simulation/index.html')\n",
    "binom_sim = BeautifulSoup(r.content, 'html.parser')"
   ]
  },
  {
   "cell_type": "code",
   "execution_count": 2,
   "metadata": {},
   "outputs": [
    {
     "output_type": "execute_result",
     "data": {
      "text/plain": [
       "<!DOCTYPE html>\n",
       "\n",
       "<html lang=\"en\">\n",
       "<head>\n",
       "<title>Binomial Simulation</title>\n",
       "</head>\n",
       "<link crossorigin=\"anonymous\" href=\"https://cdnjs.cloudflare.com/ajax/libs/KaTeX/0.7.1/katex.min.css\" integrity=\"sha384-wITovz90syo1dJWVh32uuETPVEtGigN07tkttEqPv+uR2SE/mbQcG7ATL28aI9H0\" rel=\"stylesheet\"/>\n",
       "<style>\n",
       "    /* LaTeX display environment will effect the LaTeX characters but not the layout on the page */\n",
       "    span.katex-display {\n",
       "      display: inherit; /* You may comment this out if you want the default behavior */\n",
       "    }\n",
       "  </style>\n",
       "<script crossorigin=\"anonymous\" integrity=\"sha384-/y1Nn9+QQAipbNQWU65krzJralCnuOasHncUFXGkdwntGeSvQicrYkiUBwsgUqc1\" src=\"https://cdnjs.cloudflare.com/ajax/libs/KaTeX/0.7.1/katex.min.js\"></script>\n",
       "<script crossorigin=\"anonymous\" integrity=\"sha384-dq1/gEHSxPZQ7DdrM82ID4YVol9BYyU7GbWlIwnwyPzotpoc57wDw/guX8EaYGPx\" src=\"https://cdnjs.cloudflare.com/ajax/libs/KaTeX/0.7.1/contrib/auto-render.min.js\"></script>\n",
       "<!-- These scripts link to the Vega-Lite runtime -->\n",
       "<script src=\"https://cdn.jsdelivr.net/npm/vega@3\"></script>\n",
       "<script src=\"https://cdn.jsdelivr.net/npm/vega-lite@2\"></script>\n",
       "<script src=\"https://cdn.jsdelivr.net/npm/vega-embed@3\"></script>\n",
       "<script src=\"main.js\"></script>\n",
       "\n",
       "<body>\n",
       "<div id=\"elm\"></div>\n",
       "<script>\n",
       "    var app = Elm.Main.init({\n",
       "       node: document.getElementById('elm')\n",
       "    }); setTimeout(function () {\n",
       "      renderMathInElement(document.body, {delimiters: [{left: \"$begin-inline$\", right: \"$end-inline$\", display: false},{left: \"$begin-display$\", right: \"$end-display$\", display: true}]});\n",
       "    }, 0);\n",
       "\n",
       "    var requestAnimationFrame = window.requestAnimationFrame || window.mozRequestAnimationFrame || window.webkitRequestAnimationFrame || window.msRequestAnimationFrame;\n",
       "\n",
       "  let updateSamplePlot = function(spec){\n",
       "    console.log(spec);\n",
       "    requestAnimationFrame(function(){\n",
       "      vegaEmbed(\"#samplePlot\", spec, {actions: false}).catch(console.warn);\n",
       "      });\n",
       "   }\n",
       "\n",
       "  let updateDistPlot = function(spec){\n",
       "    console.log(spec);\n",
       "    requestAnimationFrame(function(){\n",
       "      vegaEmbed(\"#distPlot\", spec, {actions: false}).catch(console.warn);\n",
       "      });\n",
       "   }\n",
       "\n",
       "    app.ports.samplePlotToJS.subscribe(updateSamplePlot);\n",
       "    app.ports.distPlotToJS.subscribe(updateDistPlot);\n",
       "</script>\n",
       "</body>\n",
       "</html>"
      ]
     },
     "metadata": {},
     "execution_count": 2
    }
   ],
   "source": [
    "binom_sim"
   ]
  },
  {
   "cell_type": "markdown",
   "metadata": {},
   "source": [
    "## <font color=\"red\"> Exercise 1 </font>\n",
    "\n",
    "Load the [binomial simulation app](https://wsu-datascience.github.io/binomial_simulation/index.html) in a browser and inspect some elements.  Verify that our usual technique failed to load the elements you find on the page."
   ]
  },
  {
   "cell_type": "markdown",
   "metadata": {},
   "source": [
    "## Why use `selenium`\n",
    "\n",
    "`selenium` allows us to interact with the web page by\n",
    "\n",
    "1. Clicking on non-HTML elements on the page\n",
    "2. Filling in forms\n",
    "3. Waiting for elements to load\n",
    "4. Taking screen shots of the current state."
   ]
  },
  {
   "cell_type": "markdown",
   "metadata": {},
   "source": [
    "## Installation -- Installing the browser driver.\n",
    "\n",
    "First, we need to install a special driver that allows Python to interact with your browser.  Here we will be using Google Chrome and the [Chrome Driver](https://chromedriver.chromium.org/getting-started).  Be sure to install this driver (or the [one for your favorite browser](https://selenium-python.readthedocs.io/installation.html#drivers). "
   ]
  },
  {
   "cell_type": "markdown",
   "metadata": {},
   "source": [
    "## Installation -- Installing `selenium`\n",
    "\n",
    "Next we will use `pip` to install the `selenium` package."
   ]
  },
  {
   "cell_type": "code",
   "execution_count": 2,
   "metadata": {
    "scrolled": true
   },
   "outputs": [
    {
     "output_type": "stream",
     "name": "stdout",
     "text": [
      "Collecting selenium\n",
      "  Downloading selenium-3.141.0-py2.py3-none-any.whl (904 kB)\n",
      "\u001b[K     |████████████████████████████████| 904 kB 2.3 MB/s \n",
      "\u001b[?25hRequirement already satisfied: urllib3 in /home/le7858ey/.pyenv/versions/anaconda3-2020.02/lib/python3.7/site-packages (from selenium) (1.25.8)\n",
      "Installing collected packages: selenium\n",
      "Successfully installed selenium-3.141.0\n"
     ]
    }
   ],
   "source": [
    "!pip install selenium"
   ]
  },
  {
   "cell_type": "markdown",
   "metadata": {},
   "source": [
    "## Starting a `selenium` session\n",
    "\n",
    "Note that this will pop up a Chrome window that will be controlled by your Python `driver` object.  **Don't close this window**"
   ]
  },
  {
   "cell_type": "code",
   "execution_count": 3,
   "metadata": {},
   "outputs": [],
   "source": [
    "from selenium import webdriver\n",
    "\n",
    "DRIVER_PATH = '/mnt/c/Users/le7858ey/Desktop/chromedriver.exe'\n",
    "driver = webdriver.Chrome(executable_path=DRIVER_PATH)\n",
    "driver.get('https://duckduckgo.com/')"
   ]
  },
  {
   "cell_type": "code",
   "execution_count": 5,
   "metadata": {},
   "outputs": [
    {
     "output_type": "execute_result",
     "data": {
      "text/plain": [
       "--ad:focus {border-color: #eeeeee;}.badge-link__title,.badge-link__bullets {color: #eeeeee;}.faq__title,.faq__question,.faq__answer,.is-atb-fullbleed .badge-link__title,.is-atb-fullbleed .badge-link__subtitle,.is-atb-fullbleed .badge-link__bullet,.is-atb-fullbleed .badge-link__rating,.is-atb-fullbleed .content-info__title,.is-atb-fullbleed .content-info__item,.is-atb-fullbleed .badge-link__rating__star--third::before ,.is-atb-fullbleed .badge-link__rating__star--half::before {color: #eeeeee !important;}.is-atb-fullbleed.dark-bg .badge-link__rating__star--empty {color: #161616;}.is-atb-fullbleed.is-bb-exp.dark-bg .badge-link__rating__star--empty {color: #444 !important;}.is-atb-fullbleed .content-info__item__link {color: #678FFF;}.settings-page-wrapper .set-side a,.settings-page-wrapper .set-side a:hover,.settings-page-wrapper .set-side a:active {color: #eeeeee;text-decoration: underline;}.result--sep--hr:before,.result--more.is-loading,.feedback--button.btn--wire,.place-list-item:hover,.footer--mobile .feedback-btn,.module__section.place-list-item:hover {color: #cccccc;border-color: #333333;background-color: #333333;}.place-hours,.most-visited__separator {border-color: #333333;}.feedback--button.btn--wire:hover,.onboarding-ed__arrow-teaser .onboarding-ed__arrow-teaser__arrow-wrapper,.most-visited__site-icon {color: #eeeeee;background-color: #333333;}.most-visited__site-link-delete {color: #eeeeee;background-color: #282828;}.mapboxgl-ctrl-scale {border-color: #eeeeee;}.set-head,.set-thumbnail__img,.set-main-footer,.region__header__section--current,.badge-link,.frm__color__swatch {border-color: #333333;}.modal__list__link:hover,.modal__list__link.is-active,.modal__list__link.is-highlighted,.modal--dropdown--region .modal__list__link.is-highlighted,.highlight .result__image,.switch,.modal--dropdown--settings .settings-dropdown--section .frm__field .frm__switch .frm__switch__label.btn {background-color: #333333;}.cloudsave,.set-bookmarklet__detail,.set-reset__detail {background: #282828;}code,.set-bookmarklet__input,.set-bookmarklet__data,.btn,.btn:visited,.btn:active,.btn.btn--primary,.btn.btn--secondary,.btn--primary:hover,.btn.is-disabled,.btn.is-disabled:hover,input,textarea,.frm__input,.frm__text,.detail--xd .c-detail__btn,.set-bookmarklet,.set-reset,.frm__select,.frm__select select,.zci--json_validator textarea,.colorpicker,.feedback-modal__submit.is-disabled,.feedback-modal__submit.is-disabled:hover,.feedback-modal__submit.is-disabled:active,.feedback-modal__submit.is-disabled:focus,.most-visited__toggle,.btn.btn--skeleton:hover {background-color: #333333;border-color: transparent;color: #eeeeee;text-shadow: none;}.open-in-app__tooltip {background-color: #333333;border-color: #161616;color: #eeeeee;}.open-in-app__tooltip::before {border-left-color: transparent;border-right-color: transparent;border-bottom-color: #161616;}.open-in-app__tooltip::after {border-left-color: transparent;border-right-color: transparent;border-bottom-color: #333333;}.zcm-wrap-wrap .zcm--right-fade::before {background-image: linear-gradient(90deg, rgba(250, 250, 250, 0), #161616);}.multi-step-mobile-onboarding .btn--cppm-skip {color: #eeeeee;}.colorpicker .colorpicker__nub {background-color: #333333;border-color: #333333;}.frm__select:hover select,.btn.is-active,.btn:hover,.frm__select:hover,.btn.most-visited__toggle:hover,.btn.most-visited__toggle:active,.btn.most-visited__toggle:focus,.no-touch .tile-nav--sm.can-scroll:hover,.no-touch .tile-nav--sm.can-scroll:active,.no-touch .tile-nav--sm.can-scroll:hover:active,.modal .btn:hover:not(.is-disabled),.modal .btn:hover:not(.is-disabled) {background-color: #444444;color: #eeeeee;border-color: #444444;}.multi-step-mobile-onboarding .btn.btn--cppm-done[disabled] {background-color: #444444;color: #eeeeee;border-color: #444444;}.btn.feedback-btn,.btn.feedback-btn a,.feedback-modal__submit.is-disabled,.feedback-modal__submit.is-disabled:hover,.feedback-modal__submit.is-disabled:active,.feedback-modal__submit.is-disabled:focus,.feedback-prompt,.feedback-prompt__link,.feedback-prompt__link:visited,.module--carousel-products.has-grid .module--carousel__main-source a,.module--carousel-products.has-grid .module--carousel__main-source a:visited,.module--carousel .module--carousel__main-source .js-badge--ad,.module--carousel .badge--ad-wrap--product-carousel .js-badge--ad,.module__more-at-and-feedback .module__more-at a,.btn.btn--skeleton,.btn.btn--skeleton:hover,.btn.is-disabled,.btn.is-disabled:hover {color: #666666;}.btn.feedback-btn,.btn.feedback-btn a,.btn.feedback-btn a:hover {border-radius: 4px;background: #282828;}.btn.feedback-btn:hover,.btn.feedback-btn a:hover {color: #cccccc;}.module__more-at-and-feedback .module__more-at a img {opacity: 0.5;}.module__more-at-and-feedback .module__more-at a:hover img {opacity: 1;}background: #333333;}.is-mobile .results_links_deep, .is-mobile .results_links,.is-mobile .result--news {background: #282828;border-color: transparent;border-bottom-color: transparent;box-shadow: 0 1px 3px rgba(0,0,0,0.5);}.modal--dropdown--region .modal__header .frm__input {background-color: #282828;}.module--carousel__placeholder,.result__image__plc {color: #cccccc;background-color: #282828;}.frm__hr {border-color: #333333;}.header-atb,.mapkit-static__cta {background-color: #161616;}.header-atb,.header-atb:active,.header-atb:hover,.header-atb:visited {color: #cccccc;}.modal--popover.is-showing,.modal--popover--gray.is-showing {background: rgba(0,0,0,0.6); }.modal__box {border: 1px solid #161616;}.modal__header {background-color: #161616;border-bottom-color: #161616;}.modal--popout--bottom.has-header .modal__box:before,.modal--popout--bottom-right.has-header .modal__box:before,.modal--popout--bottom-left.has-header .modal__box:before,.modal--popout--bottom.has-header .modal__box:after,.modal--popout--bottom-right.has-header .modal__box:after,.modal--popout--bottom-left.has-header .modal__box:after,.modal--popout .modal__box:before {color: #161616;}.modal--popout .modal__box:after {color: #1c1c1c;}.modal--popover.is-showing,.modal--popover--gray.is-showing {background: rgba(0,0,0,0.6); }.results--powered,.mapboxgl-ctrl.mapboxgl-ctrl-scale,.mapboxgl-ctrl.mapboxgl-ctrl-attrib,.mapkit-static__attribution {background-color: rgba(11%, 11%, 11%,0.85);}.region-flag__wrap--small.has-region:before {border-color: transparent;}.modal__box {border: 1px solid #161616;}.modal__header {background-color: #161616;border-bottom-color: #161616;}.modal--popout--bottom.has-header .modal__box:before,.modal--popout--bottom-right.has-header .modal__box:before,.modal--popout--bottom-left.has-header .modal__box:before,.modal--popout--bottom.has-header .modal__box:after,.modal--popout--bottom-right.has-header .modal__box:after,.modal--popout--bottom-left.has-header .modal__box:after,.modal--popout .modal__box:before {color: #161616;}.modal--popout .modal__box:after {color: #1c1c1c;}.search-filters-wrap:before {background-image: linear-gradient(90deg, #1c1c1c, rgba(11%, 11%, 11%, 0));}.search-filters-wrap:after {background-image: linear-gradient(90deg, rgba(11%, 11%, 11%, 0), #1c1c1c);}.user-loc-cta {border-bottom-color: #1c1c1c;}.add-to-browser--blurred-cppm {background-color: #1c1c1c;}.nav-menu,.nav-menu--slideout {background-color: #282828;}.nav-menu--slideout {border-left-color: #161616;-webkit-box-shadow: none;-moz-box-shadow: none;box-shadow: none;}.nav-menu__icon,.nav-menu__close,.nav-menu__item,.nav-menu__item--secondary,.nav-menu__item > a,.nav-menu__item--secondary > a,.nav-menu__item > a:visited,.nav-menu__item--secondary > a:visited {color: #eeeeee;}.nav-menu__item > a:hover {color: #eeeeee;}.nav-menu__heading,.nav-menu__heading--primary {color: #cccccc;}.nav-menu__theme.theme-is-selected {border-color: #cccccc;}.btn--icon,.header__link,.header__link:visited,.header__label,.showcase .social__link__text,.header__button--menu,.is-mobile-header-exp .header__button--menu,.no-touch .btn--icon,.no-touch .header__button,.no-touch .header__button--menu {color: #cccccc;}.showcase .showcase__heading,.showcase .social__link__text:hover,.header__link:hover,.header__label:hover,.header__clickable:hover {color: #eeeeee;}.no-touch .btn--icon:hover,.no-touch .header__button:hover,.no-touch .header__button--menu:hover,.no-touch .header__button:focus,.no-touch .header__button--menu:focus {color: ;background-color: #333333;}.metabar__mode, .metabar__grid-btn {color: #eeeeee;background-color: #333333;border-color: #333333;}.metabar__mode:hover, .metabar__grid-btn:hover {color: #cccccc;background-color: #333333;border-color: #333333;}.showcase .showcase__dropdown-top .showcase__subheading {color: ;}.showcase .showcase__dropdown-bottom {background: #161616;border-color: #333333;}.search--home,.search--header {background-color: #333333;border-color: #333333;box-shadow: 0 1px 3px rgba(0,0,0,0.5);}.search__clear,.search--home.has-text .search__clear {color: #cccccc;}.search__clear:focus,.search__clear:hover,.search__clear:active,.search__clear:active:focus,.search__clear:active:hover {color: #eeeeee;}.search__input--adv {color: #eeeeee;}.search__button:hover,.search__button:focus,.search--hover .search__button,.search--hover .search__button:focus,.search--header.has-text.search--hover .search__button,.search--header.has-text.search--focus .search__button,.search--header.has-text.search--hover .search__button:hover,.search--header.has-text.search--focus .search__button:hover,.search--home.has-text .search__button,.search--home.has-text .search__button:focus,.search--home.has-text .search__button:hover {background-color: #444444;color: #cccccc;}.search__button:hover,.search--header.has-text.search--hover .search__button:hover,.search--header.has-text.search--focus .search__button:hover,.search--home.has-text .search__button:focus,.search--home.has-text .search__button:hover {color: #eeeeee;}.is-mobile.is-mobile-header-exp .search--mobile-exp {border-color: #333333;}.is-mobile.is-mobile-header-exp .search--mobile-exp.has-text:after {background-color: #666666;}.is-mobile .search--adv.search--mobile-exp.has-text .search__button {background-color: transparent;}.is-mobile .search--adv.search--mobile-exp.has-text .search__button:focus,.is-mobile .search--adv.search--mobile-exp.has-text .search__button:hover,.is-mobile .search--adv.search--mobile-exp .search__button:focus,.is-mobile .search--adv.search--mobile-exp .search__button:hover {background-color: transparent;color: #eeeeee;}.is-mobile .search--adv.search--mobile-exp.has-text .search__button,.is-mobile .search--adv.search--mobile-exp .search__back {color: #cccccc;}.is-mobile .search--adv.search--mobile-exp .search__back:focus,.is-mobile .search--adv.search--mobile-exp .search__back:hover,.is-mobile .search--adv.search--mobile-exp .acp__search-fill:hover,.is-mobile .search--adv.search--mobile-exp .acp__search-fill:focus {color: #eeeeee;}.search__autocomplete {border-color: #333333;background: #333333;border-top: 1px solid #282828;}.acp-footer {border: 1px solid #333333;}.acp-wrap, .acp-footer {background-color: #333333;border-color: #333333;}.acp-wrap__column.acp-wrap__column--left {border-color: #282828;}.acp,.acp--bang,.acp__detail,.acp-footer .acp-footer__instructions {color: #cccccc;}.acp,.acp--bang,.acp strong,.acp--bang .acp--bang__phrase,.acp--highlight.acp--bang .acp--bang__phrase,.acp--highlight.acp--bang .acp--bang__snippet {color: #eeeeee;}.acp--highlight {background-color: #282828;}.is-mobile.is-mobile-header-exp .acp-wrap {border: none;}</style><style>.result a.result__a,.result a.result__a:hover,.result a.result__a:active,.result a.badge--ad,.result a.badge--ad:hover,.result a.badge--ad:focus,.sitelinks__title a.result__a,.sitelinks__title a.result__a:hover,.sitelinks__title a.result__a:active,.msg__all,.msg__all:visited,.msg__all:hover,.msg__clear,.msg__clear:active,.msg__clear:hover,.msg__clear:visited,.msg--spelling :link,.msg--spelling a:visited,.msg--spelling a:hover,.module__link,.module__link:hover,.module__link:focus,.module__link:active,.module__link a,.module__link a:hover,.module__link a:focus,.module__link a:active,.module--carousel__body__title,.module--carousel__body__title:active,.module--carousel__body__title:hover,.module--carousel__more,.module--carousel__more:active,.module--carousel__more:hover,.no-results__link,.no-results__link:visited,.no-results__link:active,.no-results__link:hover,.about-info-box__link-row__link:hover,.about-info-box__link-row__link:active {color: #eeeeee;}.result a.badge--ad,.result a.badge--ad:hover,.result a.badge--ad:focus {border-color: #eeeeee;}.result__sitelinks .sponsored__sitelink b,.result__sitelinks .sponsored__sitelink,.result__sitelinks .sponsored__sitelink:active,.result__sitelinks .sponsored__sitelink:hover {color: #eeeeee !important;}</style><style>.result__snippet,.result__snippet b,.result__snippet .sponsored__sitelink__comma {color: #cccccc !important;}.report-ad__start {border-color: #333333;}.report-ad,.report-ad__link,.report-ad__link:hover,.report-ad__link:visited,.report-ad__link:visited:hover {color:  !important;}.result__date {color:  !important;}</style><style>.results a.result__a:visited,.sitelinks__title a.result__a:visited,.module--news__body__title:visited,.module__link:visited, .module__link:visited:hover,.module__link a:visited, .module__link a:visited:hover{ color:#aaaaaa;}</style><style>.result__url,.result__url:visited,.result__url:active,.result__url:hover,.result__url:focus,.result__url:visited:focus,.result--ad .result__url,.result--ad .result__url:hover,.result--ad .result__url:active,.result--ad .result__url:visited {color: #eeeeee;}.badge--ad--inline,.badge--ad--inline:hover,.badge--ad--inline:focus {color: #eeeeee;border-color: #eeeeee;}</style><style>.module:not(.module--carousel):not(.module--placeholder):not(.module--images),.modal--popout .modal__box,.modal__box,.sidebar-modules .module,.results--main .result:not(.result--ad).highlight,.module .module--carousel__item,.user-loc-cta,.address-detail,.modal--dropdown.modal--popout .modal__box,.tile--info,.place-detail,.badge-link,.is-atb-fullbleed .content-info__item,.atb-banner__bottom,.multi-step-mobile-onboarding__step__content,.is-mobile .results_links_deep,.is-mobile .results_links,.is-mobile .result--news,.is-mobile .related-searches,.most-visited__info-tt,.user-loc-tooltip {border: 1px solid #282828;background: #282828;box-shadow: 0 1px 3px rgba(0,0,0,0.5);color: #cccccc;}.multi-step-mobile-onboarding__step__content {border-width: 0;}.multi-step-mobile-onboarding__progress__fallback-bar {background-color: #282828 !important;}.vertical--map__sidebar__results__inner {border: 1px solid #282828;background: #282828;color: #cccccc;}.place-detail {border: none;}.most-visited__info-tt--above:before,.most-visited__info-tt:before,.most-visited__info-tt--above:after,.most-visited__info-tt:after {border-top-color: #282828;border-bottom-color: #282828;}.address-detail {box-shadow: none;border-color: transparent;}.vertical--map__search-examples,.vertical--map__search-web,.about-info-box__info-row,.is-mobile .related-searches__item,.module--places .module__places-more {border-color: #333333;}.module--carousel__left,.module--carousel__right {background-color: #333333;box-shadow: 0 1px 3px 0 rgba(0,0,0,0.5);color: #eeeeee;border-color: #333333;}.module--carousel__left:hover,.module--carousel__right:hover,.tile__expand:hover {background-color: #444444;box-shadow: 0 1px 3px 0 rgba(0,0,0,0.5);border-color: #444444;color: #eeeeee;}.module__toggle,.tile__expand {background-color: #333333;color: #eeeeee;border-color: #282828;box-shadow: none;}.is-not-mobile-device .module__toggle:hover,.place-detail__cta-item:hover .place-detail__cta-icon {background-color: #444444;color: #cccccc;}.module__toggle--more::after {background: linear-gradient(rgba(40, 40, 40, 0), rgba(40, 40, 40, 1));}.is-mobile .module {border-color: transparent;}.module__text,.module--carousel__footer,.user-loc-cta__dismiss,.module__title__sub {color: #cccccc;}.module__link, .module__link:visited, .module__link:hover, .module__link:focus, .module__link:active,.module__link a, .module__link a:visited, .module__link a:hover, .module__link a:focus, .module__link a:active,.modal--dropdown--settings .settings-dropdown--section .settings-dropdown--header .settings-dropdown--header--label,.user-loc-link,.user-loc-link:visited,.user-loc-link:hover,.module__link:visited,.module__link a:visited,.multi-step-mobile-onboarding__step__content h2,.multi-step-mobile-onboarding__step__content__body,.multi-step-mobile-onboarding__progress label,.atb-banner__bottom .atb-banner__title,.atb-banner__bottom .atb-banner__link {color: #eeeeee !important;}.multi-step-mobile-onboarding__close svg path {fill: #eeeeee !important;}.multi-step-mobile-onboarding__step__content header p,.multi-step-mobile-onboarding__step__content__body__remaining-items li a {color: #cccccc !important;}.multi-step-mobile-onboarding__step__content__body__remaining-items li a i {background-color: #333333 !important;}.module__nav__item.is-active {border-bottom-color: #cccccc;}.tile {content:\"\";box-shadow: 0 1px 3px 0 rgba(0,0,0,0.5);border-color: #282828;background: #282828;}.tile .tile__body {border-color: #282828;background: #282828;}.tile .tile__title {color: #eeeeee;}.modal .frm__select {border-color: transparent;}.modal .frm__select,.modal .frm__select select,.modal .frm__text,.modal .frm__input,.modal--dropdown--region .modal__list__divider {resize: none;border-color: transparent;background: #333333;color: #eeeeee;}.user-loc-survey-reason__comment {border-color: transparent;background-color: #333333;color: #eeeeee;}.module--carousel__image-wrapper {background: #333333;}.user-loc-tooltip__address,.modal__header {background: #333333;}.modal__header,.module__section,.module__section:first-child.place-detail__section--tab,.module__clickable-header {border-color: #333333;}.modal .frm__select:after {color: #eeeeee;}.faq__section,.faq__section:last-child,.modal--dropdown--settings .settings-dropdown--section {border-color: #333333;}.modal--dropdown--settings .settings-dropdown--section .frm__field .frm__select select {background: #282828;}.modal--dropdown--settings .settings-dropdown--section .frm__field .frm__select:before {background-image: linear-gradient(to right, rgba(40, 40, 40, 0) 0%, rgba(40, 40, 40, 1) 65%);}.modal--dropdown--settings .settings-dropdown--section .settings-dropdown--header .settings-dropdown--header--link {color: #eeeeee;}.vertical--map__sidebar__wrapper,.is-mobile-device .vertical--map__sidebar--normal .vertical--map__sidebar-mask {background: #282828;}.user-loc-tooltip, .badge--ad__tooltip {color: #eeeeee;border-color: #333333;background: #282828;}.user-loc-tile {background: #444444;color: #eeeeee;}.user-loc-tile:hover {background: #666666;}.badge--ad__tooltip--mobile .badge--ad__tooltip__triangle-outer,.badge--ad__tooltip--below .badge--ad__tooltip__triangle-outer,.user-loc-tooltip--below .user-loc-tooltip__triangle-outer,.user-loc-tooltip--below-right .user-loc-tooltip__triangle-outer {border-bottom-color: #333333;}.badge--ad__tooltip--mobile .badge--ad__tooltip__triangle-inner,.badge--ad__tooltip--below .badge--ad__tooltip__triangle-inner,.user-loc-tooltip--below .user-loc-tooltip__triangle-inner,.user-loc-tooltip--below-right .user-loc-tooltip__triangle-inner {border-bottom-color: #282828;}.badge--ad__tooltip--right .badge--ad__tooltip__triangle-outer {border-right-color: #333333;}.badge--ad__tooltip--right .badge--ad__tooltip__triangle-inner {border-right-color: #282828;}.user-loc-tooltip__err-img-container div {background-image: url(\"/assets/location_help/location-help--dark.svg\");}.set-themes .set-theme.is-checked {border-color: #282828;}.set-themes .set-theme[for=setting_kae_-1] {border-color: transparent;}</style><style>.msg--spelling :link,.msg--spelling :visited,.msg--spelling a:hover,.msg__clear,.msg__clear:hover,.msg__all,.msg__all:visited {color: #eeeeee !important;}</style></body></html>'"
      ]
     },
     "metadata": {},
     "execution_count": 5
    }
   ],
   "source": [
    "driver.page_source"
   ]
  },
  {
   "cell_type": "code",
   "execution_count": 6,
   "metadata": {},
   "outputs": [
    {
     "output_type": "execute_result",
     "data": {
      "text/plain": [
       "'DuckDuckGo — Privacy, simplified.'"
      ]
     },
     "metadata": {},
     "execution_count": 6
    }
   ],
   "source": [
    "driver.title"
   ]
  },
  {
   "cell_type": "code",
   "execution_count": 7,
   "metadata": {},
   "outputs": [
    {
     "output_type": "execute_result",
     "data": {
      "text/plain": [
       "'https://duckduckgo.com/'"
      ]
     },
     "metadata": {},
     "execution_count": 7
    }
   ],
   "source": [
    "driver.current_url"
   ]
  },
  {
   "cell_type": "markdown",
   "metadata": {},
   "source": [
    "## Locating the First Element\n",
    "\n",
    "Can locate by\n",
    "\n",
    "* Tag name\n",
    "* Class name\n",
    "* IDs\n",
    "* XPath\n",
    "* CSS selectors\n",
    "\n",
    "**Note:** This is the same as `find` in `bs4`"
   ]
  },
  {
   "cell_type": "code",
   "execution_count": 8,
   "metadata": {},
   "outputs": [
    {
     "output_type": "execute_result",
     "data": {
      "text/plain": [
       "<selenium.webdriver.remote.webelement.WebElement (session=\"4f49eb581e7d62c16a2f9ba063513019\", element=\"fede2b91-365e-42d4-bf03-38740b2c156f\")>"
      ]
     },
     "metadata": {},
     "execution_count": 8
    }
   ],
   "source": [
    "p = driver.find_element_by_tag_name('p')\n",
    "p"
   ]
  },
  {
   "cell_type": "code",
   "execution_count": 9,
   "metadata": {},
   "outputs": [
    {
     "output_type": "execute_result",
     "data": {
      "text/plain": [
       "<selenium.webdriver.remote.webelement.WebElement (session=\"4f49eb581e7d62c16a2f9ba063513019\", element=\"08ad00b7-f1a2-4111-8b8e-03b006b51fac\")>"
      ]
     },
     "metadata": {},
     "execution_count": 9
    }
   ],
   "source": [
    "faq_button = driver.find_element_by_class_name('faq__button')\n",
    "faq_button"
   ]
  },
  {
   "cell_type": "code",
   "execution_count": 10,
   "metadata": {},
   "outputs": [
    {
     "output_type": "execute_result",
     "data": {
      "text/plain": [
       "<selenium.webdriver.remote.webelement.WebElement (session=\"4f49eb581e7d62c16a2f9ba063513019\", element=\"04d9987d-31ff-42fb-9538-ecd1434f7f34\")>"
      ]
     },
     "metadata": {},
     "execution_count": 10
    }
   ],
   "source": [
    "error_div = driver.find_element_by_id('error_homepage')\n",
    "error_div"
   ]
  },
  {
   "cell_type": "markdown",
   "metadata": {},
   "source": [
    "## Locating all the Elements\n",
    "\n",
    "Use the plural (i.e. `elements`) to `find_all` tags."
   ]
  },
  {
   "cell_type": "code",
   "execution_count": 11,
   "metadata": {},
   "outputs": [
    {
     "output_type": "execute_result",
     "data": {
      "text/plain": [
       "[<selenium.webdriver.remote.webelement.WebElement (session=\"4f49eb581e7d62c16a2f9ba063513019\", element=\"1434c731-989a-4d3c-992c-42794035285f\")>,\n",
       " <selenium.webdriver.remote.webelement.WebElement (session=\"4f49eb581e7d62c16a2f9ba063513019\", element=\"3fb97c2a-f203-4fa1-9090-3e03dc413743\")>,\n",
       " <selenium.webdriver.remote.webelement.WebElement (session=\"4f49eb581e7d62c16a2f9ba063513019\", element=\"dd823bdf-9e60-40df-b375-ab7a049054c6\")>,\n",
       " <selenium.webdriver.remote.webelement.WebElement (session=\"4f49eb581e7d62c16a2f9ba063513019\", element=\"fd393dab-04f6-4052-af00-21e08e284e92\")>,\n",
       " <selenium.webdriver.remote.webelement.WebElement (session=\"4f49eb581e7d62c16a2f9ba063513019\", element=\"580afe96-1fcd-4bfe-b112-9c7edbaf9d42\")>,\n",
       " <selenium.webdriver.remote.webelement.WebElement (session=\"4f49eb581e7d62c16a2f9ba063513019\", element=\"4b5feb46-12c7-473f-9243-c8607b1b96f4\")>,\n",
       " <selenium.webdriver.remote.webelement.WebElement (session=\"4f49eb581e7d62c16a2f9ba063513019\", element=\"f8bb3653-7f76-4463-b7e9-33fd7c3ea61c\")>,\n",
       " <selenium.webdriver.remote.webelement.WebElement (session=\"4f49eb581e7d62c16a2f9ba063513019\", element=\"dd941d0c-2e65-403a-875f-ea7dff23dff5\")>,\n",
       " <selenium.webdriver.remote.webelement.WebElement (session=\"4f49eb581e7d62c16a2f9ba063513019\", element=\"5e923ab6-7009-429f-a5ba-ccadff581472\")>,\n",
       " <selenium.webdriver.remote.webelement.WebElement (session=\"4f49eb581e7d62c16a2f9ba063513019\", element=\"5f2e67f9-c1b0-4426-b11d-03264e9d4929\")>,\n",
       " <selenium.webdriver.remote.webelement.WebElement (session=\"4f49eb581e7d62c16a2f9ba063513019\", element=\"feca1dba-bbf5-4493-9865-c6d7c9f74ab5\")>,\n",
       " <selenium.webdriver.remote.webelement.WebElement (session=\"4f49eb581e7d62c16a2f9ba063513019\", element=\"1949596c-5859-4983-be24-3b33b10271cf\")>,\n",
       " <selenium.webdriver.remote.webelement.WebElement (session=\"4f49eb581e7d62c16a2f9ba063513019\", element=\"21c06d92-49e1-481d-97b7-1ee05e952dda\")>,\n",
       " <selenium.webdriver.remote.webelement.WebElement (session=\"4f49eb581e7d62c16a2f9ba063513019\", element=\"3fa10f42-e254-4346-b274-1cc70c00327d\")>,\n",
       " <selenium.webdriver.remote.webelement.WebElement (session=\"4f49eb581e7d62c16a2f9ba063513019\", element=\"57d05b43-ea2d-496f-ac14-fc378d7d40b9\")>,\n",
       " <selenium.webdriver.remote.webelement.WebElement (session=\"4f49eb581e7d62c16a2f9ba063513019\", element=\"bf61f5cf-39b7-4e6a-90ea-759694d44774\")>,\n",
       " <selenium.webdriver.remote.webelement.WebElement (session=\"4f49eb581e7d62c16a2f9ba063513019\", element=\"82be88ba-14d0-4f3c-a286-ed0ab4490cf6\")>,\n",
       " <selenium.webdriver.remote.webelement.WebElement (session=\"4f49eb581e7d62c16a2f9ba063513019\", element=\"16e63d19-6978-45a5-ac4c-e8d014985efc\")>,\n",
       " <selenium.webdriver.remote.webelement.WebElement (session=\"4f49eb581e7d62c16a2f9ba063513019\", element=\"c3f05afd-d11f-4f27-84d4-1c7263b4a3fc\")>,\n",
       " <selenium.webdriver.remote.webelement.WebElement (session=\"4f49eb581e7d62c16a2f9ba063513019\", element=\"e588f200-bfc3-4438-9b03-ec23f430a552\")>,\n",
       " <selenium.webdriver.remote.webelement.WebElement (session=\"4f49eb581e7d62c16a2f9ba063513019\", element=\"91c54818-b45b-4544-81d8-5ba39cb414a8\")>,\n",
       " <selenium.webdriver.remote.webelement.WebElement (session=\"4f49eb581e7d62c16a2f9ba063513019\", element=\"5a2614b8-7c9b-4854-aaac-b25e15542187\")>,\n",
       " <selenium.webdriver.remote.webelement.WebElement (session=\"4f49eb581e7d62c16a2f9ba063513019\", element=\"e995e569-e8fb-4fcc-8d96-3e28697e9949\")>,\n",
       " <selenium.webdriver.remote.webelement.WebElement (session=\"4f49eb581e7d62c16a2f9ba063513019\", element=\"d85429fb-a141-444e-b494-d6d8f47894b0\")>,\n",
       " <selenium.webdriver.remote.webelement.WebElement (session=\"4f49eb581e7d62c16a2f9ba063513019\", element=\"8fbf1187-745e-4ea3-bded-19d316ac9895\")>,\n",
       " <selenium.webdriver.remote.webelement.WebElement (session=\"4f49eb581e7d62c16a2f9ba063513019\", element=\"7e4fa804-7a23-43f9-8871-9d212a15a184\")>,\n",
       " <selenium.webdriver.remote.webelement.WebElement (session=\"4f49eb581e7d62c16a2f9ba063513019\", element=\"91756d7a-e0c8-45d9-8f36-25bc1fb6719f\")>,\n",
       " <selenium.webdriver.remote.webelement.WebElement (session=\"4f49eb581e7d62c16a2f9ba063513019\", element=\"bf34321c-00eb-451f-ac0b-6459edaaecb3\")>,\n",
       " <selenium.webdriver.remote.webelement.WebElement (session=\"4f49eb581e7d62c16a2f9ba063513019\", element=\"08801780-1064-4746-babd-c57950924215\")>,\n",
       " <selenium.webdriver.remote.webelement.WebElement (session=\"4f49eb581e7d62c16a2f9ba063513019\", element=\"01cb411e-51f6-4579-8137-2ca13c45019d\")>,\n",
       " <selenium.webdriver.remote.webelement.WebElement (session=\"4f49eb581e7d62c16a2f9ba063513019\", element=\"0e3e13b7-d8ee-4a7c-ad28-24f05f7b17b0\")>,\n",
       " <selenium.webdriver.remote.webelement.WebElement (session=\"4f49eb581e7d62c16a2f9ba063513019\", element=\"297dceb9-33e7-4fd1-9581-b9de05aed1ca\")>,\n",
       " <selenium.webdriver.remote.webelement.WebElement (session=\"4f49eb581e7d62c16a2f9ba063513019\", element=\"7d56e378-7d37-444e-b82d-d7407c3dc7f0\")>,\n",
       " <selenium.webdriver.remote.webelement.WebElement (session=\"4f49eb581e7d62c16a2f9ba063513019\", element=\"75af630b-3e03-476e-ade3-47d5dd4c8dd2\")>,\n",
       " <selenium.webdriver.remote.webelement.WebElement (session=\"4f49eb581e7d62c16a2f9ba063513019\", element=\"ffd9691e-31bd-4090-abd3-ec7201013e43\")>,\n",
       " <selenium.webdriver.remote.webelement.WebElement (session=\"4f49eb581e7d62c16a2f9ba063513019\", element=\"bf35fb3a-7464-4b67-acf9-838f627144d0\")>,\n",
       " <selenium.webdriver.remote.webelement.WebElement (session=\"4f49eb581e7d62c16a2f9ba063513019\", element=\"c4be7da4-c5e7-4c93-bcb2-80b88fec4bc7\")>,\n",
       " <selenium.webdriver.remote.webelement.WebElement (session=\"4f49eb581e7d62c16a2f9ba063513019\", element=\"76922713-c2b5-4f6a-bb1f-d9b5936ea488\")>,\n",
       " <selenium.webdriver.remote.webelement.WebElement (session=\"4f49eb581e7d62c16a2f9ba063513019\", element=\"95523afe-aeef-4a88-9dfe-4cc4a5f5e031\")>,\n",
       " <selenium.webdriver.remote.webelement.WebElement (session=\"4f49eb581e7d62c16a2f9ba063513019\", element=\"ed6492a3-13aa-4a39-a803-a5a5e25d0fc3\")>,\n",
       " <selenium.webdriver.remote.webelement.WebElement (session=\"4f49eb581e7d62c16a2f9ba063513019\", element=\"550ea67b-c69c-47dd-81a9-d2fe42cfe9e1\")>,\n",
       " <selenium.webdriver.remote.webelement.WebElement (session=\"4f49eb581e7d62c16a2f9ba063513019\", element=\"c66e5699-264e-449e-9e1e-942d2e74948b\")>,\n",
       " <selenium.webdriver.remote.webelement.WebElement (session=\"4f49eb581e7d62c16a2f9ba063513019\", element=\"079d286e-1add-4b63-9503-68e9540c54a0\")>,\n",
       " <selenium.webdriver.remote.webelement.WebElement (session=\"4f49eb581e7d62c16a2f9ba063513019\", element=\"c903c746-d398-4ca8-9579-c669214588ee\")>,\n",
       " <selenium.webdriver.remote.webelement.WebElement (session=\"4f49eb581e7d62c16a2f9ba063513019\", element=\"2be969c5-d8dc-480a-8843-d8a97f8efa53\")>,\n",
       " <selenium.webdriver.remote.webelement.WebElement (session=\"4f49eb581e7d62c16a2f9ba063513019\", element=\"ec71bf52-5e1c-422f-8783-b160af0a3595\")>,\n",
       " <selenium.webdriver.remote.webelement.WebElement (session=\"4f49eb581e7d62c16a2f9ba063513019\", element=\"af9e8f27-bdc3-45e5-98ca-947165d1da4b\")>,\n",
       " <selenium.webdriver.remote.webelement.WebElement (session=\"4f49eb581e7d62c16a2f9ba063513019\", element=\"f9ea7184-5e89-4606-9b99-2cff2eb170d9\")>,\n",
       " <selenium.webdriver.remote.webelement.WebElement (session=\"4f49eb581e7d62c16a2f9ba063513019\", element=\"386448a8-e2de-403a-b4f0-7b96f82fea32\")>,\n",
       " <selenium.webdriver.remote.webelement.WebElement (session=\"4f49eb581e7d62c16a2f9ba063513019\", element=\"27eef413-7e7e-48ea-bb72-7284fac22c32\")>,\n",
       " <selenium.webdriver.remote.webelement.WebElement (session=\"4f49eb581e7d62c16a2f9ba063513019\", element=\"fff3e3b5-12ba-4534-aca2-ff4ad5bc7806\")>,\n",
       " <selenium.webdriver.remote.webelement.WebElement (session=\"4f49eb581e7d62c16a2f9ba063513019\", element=\"8ec2db26-ae24-4c3e-8f19-1127bd8d13cf\")>,\n",
       " <selenium.webdriver.remote.webelement.WebElement (session=\"4f49eb581e7d62c16a2f9ba063513019\", element=\"7d4601a3-0d1c-4953-ae5a-1ad16b19ce4d\")>,\n",
       " <selenium.webdriver.remote.webelement.WebElement (session=\"4f49eb581e7d62c16a2f9ba063513019\", element=\"4f152934-6b8e-4b79-9a7b-4cbeb8c677d3\")>,\n",
       " <selenium.webdriver.remote.webelement.WebElement (session=\"4f49eb581e7d62c16a2f9ba063513019\", element=\"dcdcb187-139e-417a-b7e1-8c667ff48500\")>,\n",
       " <selenium.webdriver.remote.webelement.WebElement (session=\"4f49eb581e7d62c16a2f9ba063513019\", element=\"7ca265cd-4f06-4395-8fc7-9bf769c7fbbf\")>,\n",
       " <selenium.webdriver.remote.webelement.WebElement (session=\"4f49eb581e7d62c16a2f9ba063513019\", element=\"61ce9ed3-bdb0-4571-8bb8-a5cdb1d728f5\")>,\n",
       " <selenium.webdriver.remote.webelement.WebElement (session=\"4f49eb581e7d62c16a2f9ba063513019\", element=\"b66e21f2-4e22-4496-9c44-6e2b29f79d06\")>]"
      ]
     },
     "metadata": {},
     "execution_count": 11
    }
   ],
   "source": [
    "a_tags = driver.find_elements_by_tag_name('a')\n",
    "a_tags"
   ]
  },
  {
   "cell_type": "markdown",
   "metadata": {},
   "source": [
    "## The `WebElement` object\n",
    "\n",
    "`selenium` object representing an `html` tag."
   ]
  },
  {
   "cell_type": "code",
   "execution_count": 12,
   "metadata": {},
   "outputs": [
    {
     "output_type": "execute_result",
     "data": {
      "text/plain": [
       "''"
      ]
     },
     "metadata": {},
     "execution_count": 12
    }
   ],
   "source": [
    "p.text"
   ]
  },
  {
   "cell_type": "code",
   "execution_count": 13,
   "metadata": {},
   "outputs": [],
   "source": [
    "faq_button.click()"
   ]
  },
  {
   "cell_type": "code",
   "execution_count": 14,
   "metadata": {},
   "outputs": [
    {
     "output_type": "execute_result",
     "data": {
      "text/plain": [
       "'faq__button'"
      ]
     },
     "metadata": {},
     "execution_count": 14
    }
   ],
   "source": [
    "faq_button.get_attribute('class')"
   ]
  },
  {
   "cell_type": "code",
   "execution_count": 15,
   "metadata": {
    "scrolled": true
   },
   "outputs": [
    {
     "output_type": "execute_result",
     "data": {
      "text/plain": [
       "['https://duckduckgo.com/#',\n",
       " 'https://duckduckgo.com/app',\n",
       " 'https://duckduckgo.com/app',\n",
       " 'https://duckduckgo.com/newsletter',\n",
       " 'https://duckduckgo.com/newsletter',\n",
       " 'https://spreadprivacy.com/tag/device-privacy-tips/',\n",
       " 'https://spreadprivacy.com/tag/device-privacy-tips/',\n",
       " 'https://duckduckgo.com/spread',\n",
       " 'https://duckduckgo.com/spread',\n",
       " 'https://duckduckgo.com/donations',\n",
       " 'https://duckduckgo.com/donations',\n",
       " 'https://duckduckgo.com/traffic',\n",
       " 'https://duckduckgo.com/traffic',\n",
       " 'https://donttrack.us/',\n",
       " 'https://donttrack.us/',\n",
       " 'https://twitter.com/duckduckgo',\n",
       " 'https://reddit.com/r/duckduckgo',\n",
       " 'https://spreadprivacy.com/',\n",
       " 'https://duckduckgo.com/newsletter',\n",
       " 'https://duckduckgo.com/about',\n",
       " 'https://duckduckgo.com/bang',\n",
       " 'https://duckduckgo.com/spread',\n",
       " 'https://chrome.google.com/webstore/detail/bkdgflcldnnnapblkhphbgpggdiikppg/reviews',\n",
       " 'https://duckduckgo.com/app',\n",
       " 'https://duckduckgo.com/app',\n",
       " 'https://duckduckgo.com/settings#theme',\n",
       " 'https://duckduckgo.com/settings',\n",
       " 'https://duckduckgo.com/bangs',\n",
       " 'https://duckduckgo.com/',\n",
       " 'https://duckduckgo.com/app',\n",
       " 'https://spreadprivacy.com/',\n",
       " 'https://duckduckgo.com/newsletter',\n",
       " 'https://duckduckgo.com/spread',\n",
       " 'https://duckduckgo.com/about',\n",
       " 'https://duckduckgo.com/privacy',\n",
       " 'https://duckduckgo.com/hiring',\n",
       " 'https://duckduckgo.com/press',\n",
       " 'https://twitter.com/duckduckgo',\n",
       " 'https://duckduckgo.merchmadeeasy.com/',\n",
       " 'https://reddit.com/r/duckduckgo',\n",
       " 'https://help.duckduckgo.com/',\n",
       " None,\n",
       " None,\n",
       " None,\n",
       " None,\n",
       " None,\n",
       " 'https://twitter.com/?status=DuckDuckGo%20is%20my%20search%20engine%20of%20choice.%20%23ComeToTheDuckSide%20-%20we%20have%20privacy.%20https%3A%2F%2Fduckduckgo.com%2F%231',\n",
       " 'https://spreadprivacy.com/duckduckgo-revenue-model/',\n",
       " 'https://spreadprivacy.com/what-does-google-know-about-me/',\n",
       " 'https://duckduckgo.com/app',\n",
       " 'https://spreadprivacy.com/why-use-duckduckgo-instead-of-google/',\n",
       " 'https://duckduckgo.com/bang',\n",
       " 'https://spreadprivacy.com/is-duckduckgo-a-good-search-engine/',\n",
       " 'https://spreadprivacy.com/how-anonymous-is-duckduckgo/',\n",
       " 'https://duckduckgo.com/traffic',\n",
       " 'https://spreadprivacy.com/how-many-people-use-duckduckgo/',\n",
       " 'https://spreadprivacy.com/how-does-the-duckduckgo-app-extension-protect-my-privacy/',\n",
       " None]"
      ]
     },
     "metadata": {},
     "execution_count": 15
    }
   ],
   "source": [
    "[a.get_attribute('href') for a in a_tags]"
   ]
  },
  {
   "cell_type": "code",
   "execution_count": 16,
   "metadata": {
    "scrolled": true
   },
   "outputs": [
    {
     "output_type": "execute_result",
     "data": {
      "text/plain": [
       "'showcase__subheading'"
      ]
     },
     "metadata": {},
     "execution_count": 16
    }
   ],
   "source": [
    "from composable import pipeable\n",
    "get_attribute = pipeable(lambda attr, tag: tag.get_attribute(attr))\n",
    "\n",
    "(p\n",
    ">> get_attribute('class')\n",
    ")"
   ]
  },
  {
   "cell_type": "code",
   "execution_count": 17,
   "metadata": {
    "scrolled": true
   },
   "outputs": [
    {
     "output_type": "execute_result",
     "data": {
      "text/plain": [
       "['https://duckduckgo.com/#',\n",
       " 'https://duckduckgo.com/app',\n",
       " 'https://duckduckgo.com/app',\n",
       " 'https://duckduckgo.com/newsletter',\n",
       " 'https://duckduckgo.com/newsletter',\n",
       " 'https://spreadprivacy.com/tag/device-privacy-tips/',\n",
       " 'https://spreadprivacy.com/tag/device-privacy-tips/',\n",
       " 'https://duckduckgo.com/spread',\n",
       " 'https://duckduckgo.com/spread',\n",
       " 'https://duckduckgo.com/donations',\n",
       " 'https://duckduckgo.com/donations',\n",
       " 'https://duckduckgo.com/traffic',\n",
       " 'https://duckduckgo.com/traffic',\n",
       " 'https://donttrack.us/',\n",
       " 'https://donttrack.us/',\n",
       " 'https://twitter.com/duckduckgo',\n",
       " 'https://reddit.com/r/duckduckgo',\n",
       " 'https://spreadprivacy.com/',\n",
       " 'https://duckduckgo.com/newsletter',\n",
       " 'https://duckduckgo.com/about',\n",
       " 'https://duckduckgo.com/bang',\n",
       " 'https://duckduckgo.com/spread',\n",
       " 'https://chrome.google.com/webstore/detail/bkdgflcldnnnapblkhphbgpggdiikppg/reviews',\n",
       " 'https://duckduckgo.com/app',\n",
       " 'https://duckduckgo.com/app',\n",
       " 'https://duckduckgo.com/settings#theme',\n",
       " 'https://duckduckgo.com/settings',\n",
       " 'https://duckduckgo.com/bangs',\n",
       " 'https://duckduckgo.com/',\n",
       " 'https://duckduckgo.com/app',\n",
       " 'https://spreadprivacy.com/',\n",
       " 'https://duckduckgo.com/newsletter',\n",
       " 'https://duckduckgo.com/spread',\n",
       " 'https://duckduckgo.com/about',\n",
       " 'https://duckduckgo.com/privacy',\n",
       " 'https://duckduckgo.com/hiring',\n",
       " 'https://duckduckgo.com/press',\n",
       " 'https://twitter.com/duckduckgo',\n",
       " 'https://duckduckgo.merchmadeeasy.com/',\n",
       " 'https://reddit.com/r/duckduckgo',\n",
       " 'https://help.duckduckgo.com/',\n",
       " None,\n",
       " None,\n",
       " None,\n",
       " None,\n",
       " None,\n",
       " 'https://twitter.com/?status=DuckDuckGo%20is%20my%20search%20engine%20of%20choice.%20%23ComeToTheDuckSide%20-%20we%20have%20privacy.%20https%3A%2F%2Fduckduckgo.com%2F%231',\n",
       " 'https://spreadprivacy.com/duckduckgo-revenue-model/',\n",
       " 'https://spreadprivacy.com/what-does-google-know-about-me/',\n",
       " 'https://duckduckgo.com/app',\n",
       " 'https://spreadprivacy.com/why-use-duckduckgo-instead-of-google/',\n",
       " 'https://duckduckgo.com/bang',\n",
       " 'https://spreadprivacy.com/is-duckduckgo-a-good-search-engine/',\n",
       " 'https://spreadprivacy.com/how-anonymous-is-duckduckgo/',\n",
       " 'https://duckduckgo.com/traffic',\n",
       " 'https://spreadprivacy.com/how-many-people-use-duckduckgo/',\n",
       " 'https://spreadprivacy.com/how-does-the-duckduckgo-app-extension-protect-my-privacy/',\n",
       " None]"
      ]
     },
     "metadata": {},
     "execution_count": 17
    }
   ],
   "source": [
    "from composable.strict import map\n",
    "\n",
    "(a_tags\n",
    ">> map(get_attribute('href'))\n",
    ")"
   ]
  },
  {
   "cell_type": "markdown",
   "metadata": {},
   "source": [
    "## Anatomy of a Search\n",
    "\n",
    "<img src=\"./img/duckduck_search.png\" width=\"400\"/>"
   ]
  },
  {
   "cell_type": "code",
   "execution_count": 18,
   "metadata": {},
   "outputs": [],
   "source": [
    "input_field = driver.find_element_by_id('search_form_input_homepage')\n",
    "input_button = driver.find_element_by_id('search_button_homepage')"
   ]
  },
  {
   "cell_type": "code",
   "execution_count": 19,
   "metadata": {},
   "outputs": [],
   "source": [
    "input_field.send_keys('Silas Bergen')"
   ]
  },
  {
   "cell_type": "code",
   "execution_count": 20,
   "metadata": {},
   "outputs": [],
   "source": [
    "input_button.click()"
   ]
  },
  {
   "cell_type": "markdown",
   "metadata": {},
   "source": [
    "## IMPORTANT -- The page will change!"
   ]
  },
  {
   "cell_type": "code",
   "execution_count": 21,
   "metadata": {
    "scrolled": true
   },
   "outputs": [
    {
     "output_type": "error",
     "ename": "NoSuchElementException",
     "evalue": "Message: no such element: Unable to locate element: {\"method\":\"css selector\",\"selector\":\"[id=\"search_form_input_homepage\"]\"}\n  (Session info: chrome=86.0.4240.183)\n",
     "traceback": [
      "\u001b[0;31m---------------------------------------------------------------------------\u001b[0m",
      "\u001b[0;31mNoSuchElementException\u001b[0m                    Traceback (most recent call last)",
      "\u001b[0;32m<ipython-input-21-57b08a652148>\u001b[0m in \u001b[0;36m<module>\u001b[0;34m\u001b[0m\n\u001b[0;32m----> 1\u001b[0;31m \u001b[0minput_field\u001b[0m \u001b[0;34m=\u001b[0m \u001b[0mdriver\u001b[0m\u001b[0;34m.\u001b[0m\u001b[0mfind_element_by_id\u001b[0m\u001b[0;34m(\u001b[0m\u001b[0;34m'search_form_input_homepage'\u001b[0m\u001b[0;34m)\u001b[0m\u001b[0;34m\u001b[0m\u001b[0;34m\u001b[0m\u001b[0m\n\u001b[0m",
      "\u001b[0;32m~/.pyenv/versions/anaconda3-2020.02/lib/python3.7/site-packages/selenium/webdriver/remote/webdriver.py\u001b[0m in \u001b[0;36mfind_element_by_id\u001b[0;34m(self, id_)\u001b[0m\n\u001b[1;32m    358\u001b[0m             \u001b[0melement\u001b[0m \u001b[0;34m=\u001b[0m \u001b[0mdriver\u001b[0m\u001b[0;34m.\u001b[0m\u001b[0mfind_element_by_id\u001b[0m\u001b[0;34m(\u001b[0m\u001b[0;34m'foo'\u001b[0m\u001b[0;34m)\u001b[0m\u001b[0;34m\u001b[0m\u001b[0;34m\u001b[0m\u001b[0m\n\u001b[1;32m    359\u001b[0m         \"\"\"\n\u001b[0;32m--> 360\u001b[0;31m         \u001b[0;32mreturn\u001b[0m \u001b[0mself\u001b[0m\u001b[0;34m.\u001b[0m\u001b[0mfind_element\u001b[0m\u001b[0;34m(\u001b[0m\u001b[0mby\u001b[0m\u001b[0;34m=\u001b[0m\u001b[0mBy\u001b[0m\u001b[0;34m.\u001b[0m\u001b[0mID\u001b[0m\u001b[0;34m,\u001b[0m \u001b[0mvalue\u001b[0m\u001b[0;34m=\u001b[0m\u001b[0mid_\u001b[0m\u001b[0;34m)\u001b[0m\u001b[0;34m\u001b[0m\u001b[0;34m\u001b[0m\u001b[0m\n\u001b[0m\u001b[1;32m    361\u001b[0m \u001b[0;34m\u001b[0m\u001b[0m\n\u001b[1;32m    362\u001b[0m     \u001b[0;32mdef\u001b[0m \u001b[0mfind_elements_by_id\u001b[0m\u001b[0;34m(\u001b[0m\u001b[0mself\u001b[0m\u001b[0;34m,\u001b[0m \u001b[0mid_\u001b[0m\u001b[0;34m)\u001b[0m\u001b[0;34m:\u001b[0m\u001b[0;34m\u001b[0m\u001b[0;34m\u001b[0m\u001b[0m\n",
      "\u001b[0;32m~/.pyenv/versions/anaconda3-2020.02/lib/python3.7/site-packages/selenium/webdriver/remote/webdriver.py\u001b[0m in \u001b[0;36mfind_element\u001b[0;34m(self, by, value)\u001b[0m\n\u001b[1;32m    976\u001b[0m         return self.execute(Command.FIND_ELEMENT, {\n\u001b[1;32m    977\u001b[0m             \u001b[0;34m'using'\u001b[0m\u001b[0;34m:\u001b[0m \u001b[0mby\u001b[0m\u001b[0;34m,\u001b[0m\u001b[0;34m\u001b[0m\u001b[0;34m\u001b[0m\u001b[0m\n\u001b[0;32m--> 978\u001b[0;31m             'value': value})['value']\n\u001b[0m\u001b[1;32m    979\u001b[0m \u001b[0;34m\u001b[0m\u001b[0m\n\u001b[1;32m    980\u001b[0m     \u001b[0;32mdef\u001b[0m \u001b[0mfind_elements\u001b[0m\u001b[0;34m(\u001b[0m\u001b[0mself\u001b[0m\u001b[0;34m,\u001b[0m \u001b[0mby\u001b[0m\u001b[0;34m=\u001b[0m\u001b[0mBy\u001b[0m\u001b[0;34m.\u001b[0m\u001b[0mID\u001b[0m\u001b[0;34m,\u001b[0m \u001b[0mvalue\u001b[0m\u001b[0;34m=\u001b[0m\u001b[0;32mNone\u001b[0m\u001b[0;34m)\u001b[0m\u001b[0;34m:\u001b[0m\u001b[0;34m\u001b[0m\u001b[0;34m\u001b[0m\u001b[0m\n",
      "\u001b[0;32m~/.pyenv/versions/anaconda3-2020.02/lib/python3.7/site-packages/selenium/webdriver/remote/webdriver.py\u001b[0m in \u001b[0;36mexecute\u001b[0;34m(self, driver_command, params)\u001b[0m\n\u001b[1;32m    319\u001b[0m         \u001b[0mresponse\u001b[0m \u001b[0;34m=\u001b[0m \u001b[0mself\u001b[0m\u001b[0;34m.\u001b[0m\u001b[0mcommand_executor\u001b[0m\u001b[0;34m.\u001b[0m\u001b[0mexecute\u001b[0m\u001b[0;34m(\u001b[0m\u001b[0mdriver_command\u001b[0m\u001b[0;34m,\u001b[0m \u001b[0mparams\u001b[0m\u001b[0;34m)\u001b[0m\u001b[0;34m\u001b[0m\u001b[0;34m\u001b[0m\u001b[0m\n\u001b[1;32m    320\u001b[0m         \u001b[0;32mif\u001b[0m \u001b[0mresponse\u001b[0m\u001b[0;34m:\u001b[0m\u001b[0;34m\u001b[0m\u001b[0;34m\u001b[0m\u001b[0m\n\u001b[0;32m--> 321\u001b[0;31m             \u001b[0mself\u001b[0m\u001b[0;34m.\u001b[0m\u001b[0merror_handler\u001b[0m\u001b[0;34m.\u001b[0m\u001b[0mcheck_response\u001b[0m\u001b[0;34m(\u001b[0m\u001b[0mresponse\u001b[0m\u001b[0;34m)\u001b[0m\u001b[0;34m\u001b[0m\u001b[0;34m\u001b[0m\u001b[0m\n\u001b[0m\u001b[1;32m    322\u001b[0m             response['value'] = self._unwrap_value(\n\u001b[1;32m    323\u001b[0m                 response.get('value', None))\n",
      "\u001b[0;32m~/.pyenv/versions/anaconda3-2020.02/lib/python3.7/site-packages/selenium/webdriver/remote/errorhandler.py\u001b[0m in \u001b[0;36mcheck_response\u001b[0;34m(self, response)\u001b[0m\n\u001b[1;32m    240\u001b[0m                 \u001b[0malert_text\u001b[0m \u001b[0;34m=\u001b[0m \u001b[0mvalue\u001b[0m\u001b[0;34m[\u001b[0m\u001b[0;34m'alert'\u001b[0m\u001b[0;34m]\u001b[0m\u001b[0;34m.\u001b[0m\u001b[0mget\u001b[0m\u001b[0;34m(\u001b[0m\u001b[0;34m'text'\u001b[0m\u001b[0;34m)\u001b[0m\u001b[0;34m\u001b[0m\u001b[0;34m\u001b[0m\u001b[0m\n\u001b[1;32m    241\u001b[0m             \u001b[0;32mraise\u001b[0m \u001b[0mexception_class\u001b[0m\u001b[0;34m(\u001b[0m\u001b[0mmessage\u001b[0m\u001b[0;34m,\u001b[0m \u001b[0mscreen\u001b[0m\u001b[0;34m,\u001b[0m \u001b[0mstacktrace\u001b[0m\u001b[0;34m,\u001b[0m \u001b[0malert_text\u001b[0m\u001b[0;34m)\u001b[0m\u001b[0;34m\u001b[0m\u001b[0;34m\u001b[0m\u001b[0m\n\u001b[0;32m--> 242\u001b[0;31m         \u001b[0;32mraise\u001b[0m \u001b[0mexception_class\u001b[0m\u001b[0;34m(\u001b[0m\u001b[0mmessage\u001b[0m\u001b[0;34m,\u001b[0m \u001b[0mscreen\u001b[0m\u001b[0;34m,\u001b[0m \u001b[0mstacktrace\u001b[0m\u001b[0;34m)\u001b[0m\u001b[0;34m\u001b[0m\u001b[0;34m\u001b[0m\u001b[0m\n\u001b[0m\u001b[1;32m    243\u001b[0m \u001b[0;34m\u001b[0m\u001b[0m\n\u001b[1;32m    244\u001b[0m     \u001b[0;32mdef\u001b[0m \u001b[0m_value_or_default\u001b[0m\u001b[0;34m(\u001b[0m\u001b[0mself\u001b[0m\u001b[0;34m,\u001b[0m \u001b[0mobj\u001b[0m\u001b[0;34m,\u001b[0m \u001b[0mkey\u001b[0m\u001b[0;34m,\u001b[0m \u001b[0mdefault\u001b[0m\u001b[0;34m)\u001b[0m\u001b[0;34m:\u001b[0m\u001b[0;34m\u001b[0m\u001b[0;34m\u001b[0m\u001b[0m\n",
      "\u001b[0;31mNoSuchElementException\u001b[0m: Message: no such element: Unable to locate element: {\"method\":\"css selector\",\"selector\":\"[id=\"search_form_input_homepage\"]\"}\n  (Session info: chrome=86.0.4240.183)\n"
     ]
    }
   ],
   "source": [
    "input_field = driver.find_element_by_id('search_form_input_homepage')"
   ]
  },
  {
   "cell_type": "markdown",
   "metadata": {},
   "source": [
    "## <font color=\"red\"> Exercise 2 </font> \n",
    "\n",
    "Use `selenium` to get the links for all of the results shown on the page."
   ]
  },
  {
   "cell_type": "code",
   "execution_count": 28,
   "metadata": {},
   "outputs": [],
   "source": [
    "# Your code here\n",
    "find_elements_by_tag_name = pipeable(lambda tag, driver: driver.find_elements_by_tag_name(tag))\n",
    "find_element_by_tag_name = pipeable(lambda tag, driver: driver.find_element_by_tag_name(tag))\n",
    "find_elements_by_class_name = pipeable(lambda class_, driver: driver.find_elements_by_class_name(class_))\n",
    "find_element_by_class_name = pipeable(lambda class_, driver: driver.find_element_by_class_name(class_))\n",
    "find_elements_by_id = pipeable(lambda id, driver: driver.find_elements_by_id(id))"
   ]
  },
  {
   "cell_type": "code",
   "execution_count": 36,
   "metadata": {},
   "outputs": [
    {
     "output_type": "execute_result",
     "data": {
      "text/plain": [
       "['http://driftlessdata.space/',\n",
       " 'https://www.linkedin.com/in/silas-bergen-3039b785',\n",
       " 'https://www.ratemyprofessors.com/ShowRatings.jsp?tid=1946369',\n",
       " 'https://www.instantcheckmate.com/people/silas-bergen/',\n",
       " 'https://github.com/silasbergen/',\n",
       " 'https://public.tableau.com/profile/silas.bergen#!',\n",
       " 'https://myspace.com/287027346',\n",
       " 'http://driftlessdata.space/courses/dsci310/midterm/',\n",
       " 'https://silasbergen.github.io/DSCI310-F17/Syllabus.html',\n",
       " 'https://public.tableau.com/profile/silas.bergen#!/vizhome/Uncertainty_0/Dashboard1',\n",
       " 'https://jimmyjhickey.github.io/old-site/silas.html',\n",
       " 'https://silasbergen.github.io/DSCI310-F17/Midterm.html',\n",
       " 'https://www.researchgate.net/scientific-contributions/Silas-Bergen-2009213336',\n",
       " 'https://es-la.facebook.com/public/Silas-Bergen',\n",
       " 'https://www.goodreads.com/user/show/55807579-silas-bergen',\n",
       " 'https://www.findagrave.com/memorial/71758675/laverne-silas-dewees',\n",
       " 'https://www.intelius.com/people-search/Silas-Bergen',\n",
       " 'https://vimeo.com/user37861542',\n",
       " 'https://news.winona.edu/tag/dr-silas-bergen/',\n",
       " 'https://www.researchgate.net/scientific-contributions/2009213336_Silas_Bergen',\n",
       " 'https://www.winonadailynews.com/announcements/births/births/article_58ee3fb1-1c37-5f26-a6ca-45f82db7db42.html',\n",
       " 'https://www.uib.no/en/persons/Ulysses.Silas.Ninnemann',\n",
       " 'http://iase-web.org/documents/papers/rt2016/Bergen.pdf?1482484528',\n",
       " 'https://www.winonapost.com/News/Schools/ArticleID/51574/WSU-wins-statistics-grant',\n",
       " 'https://bigdatatech2017.sched.com/sbergen',\n",
       " 'https://onlinelibrary.wiley.com/doi/abs/10.1002/job.4030020205',\n",
       " 'http://www.winonapost.com/Article/ArticleID/51574/WSU-wins-statistics-grant',\n",
       " 'http://citeseerx.ist.psu.edu/viewdoc/summary?doi=10.1.1.370.7976',\n",
       " 'https://neuraldevelopment.biomedcentral.com/',\n",
       " 'https://www.ratemyprofessors.com/AddRating.jsp?tid=1946369',\n",
       " 'http://driftlessdata.space/',\n",
       " 'https://www.facebook.com/silas.bergen.5',\n",
       " 'https://www.pubfacts.com/author/Silas+Bergen',\n",
       " 'https://www.instagram.com/silasbjerregaard/?hl=en',\n",
       " 'https://www.semanticscholar.org/author/Silas-Bergen/48578284',\n",
       " 'https://www.goodreads.com/user/show/55807579-silas-bergen',\n",
       " 'https://en.visitbergen.com/visitor-information/travel-information/skyss-bus-and-bergen-light-rail-p913973',\n",
       " 'https://en.wikipedia.org/wiki/Silas_Young',\n",
       " 'https://www.imdb.com/title/tt0081929/',\n",
       " 'https://www.lilsebergen.be/',\n",
       " 'https://highlander.fandom.com/wiki/Silas',\n",
       " 'https://nl.wikipedia.org/wiki/Slag_bij_Bergen_(1799)',\n",
       " 'https://www.silasdeanepawn.com/',\n",
       " 'https://feheroes.gamepedia.com/Silas:_Loyal_Knight',\n",
       " 'https://www.rubrikk.no/leilighet-bolig-til-leie/bergen--leilighet',\n",
       " 'https://www.arcor.de/article/News-Regional-Baden-Wuerttemberg--Gaeste-ohne-Maske-trotz-Sperrstunde-im-Lokal--Polizei-handelt/hub01-home-news-regional-baden_wuerttemberg/9815928',\n",
       " 'https://www.wowhead.com/item=156634/silas-vial-of-continuous-curing',\n",
       " 'https://vimeo.com/16912537',\n",
       " 'https://www.sats.no/treningssentre/bergen/bergen-sats/',\n",
       " 'https://www.tripadvisor.de/Tourism-g190502-Bergen_Hordaland_Western_Norway-Vacations.html',\n",
       " 'https://www.transfermarkt.com/silas-songani/profil/spieler/264299',\n",
       " 'https://www.marinetraffic.com/ru/ais/details/ships/shipid:309580/mmsi:257951000/imo:9140944/vessel:SILVER_BERGEN',\n",
       " 'https://www.verbformen.de/konjugation/bergen.htm',\n",
       " 'https://www.pexels.com/sv-se/sok/bergen/',\n",
       " 'https://www.radyonefes.net/bergen/',\n",
       " 'https://gezimanya.com/bergen',\n",
       " 'https://www.yr.no/sted/Norge/Vestland/Bergen/',\n",
       " 'https://www.dict.cc/?s=bergen',\n",
       " 'https://www.bergen.rs/en/',\n",
       " 'https://www.lastminute.com/flights/bergen',\n",
       " 'https://www.sammen.no/no/bergen/bolig',\n",
       " 'https://bergen-belsen.stiftung-ng.de/',\n",
       " 'https://www.rome2rio.com/s/Voss/Bergen',\n",
       " 'https://www.tripadvisor.com/Restaurant_Review-g190502-d2262148-Reviews-Sostrene_Hagelin-Bergen_Hordaland_Western_Norway.html',\n",
       " 'https://www.booking.com/hotel/no/lyder-sagens-apartment.en-gb.html',\n",
       " 'https://www.edreams.es/vuelos/bergen/BGO/',\n",
       " 'https://www.berlebergen.no/',\n",
       " 'https://bergen.edu/',\n",
       " 'https://www.norskflid.no/bergen/',\n",
       " 'https://www.dccomics.com/talent/thony-silas',\n",
       " 'https://avinor.no/flyplass/bergen/',\n",
       " 'https://www.izlesene.com/muzik/bergen',\n",
       " 'https://bergenlinen.com/',\n",
       " 'https://commons.wikimedia.org/wiki/Bergen',\n",
       " 'https://www.bergen.io/',\n",
       " 'http://www.duralbridge.com/bergen.htm',\n",
       " 'https://www.bergen.kommune.no/',\n",
       " 'https://en.wiktionary.org/wiki/bergen',\n",
       " 'http://bergen.it/',\n",
       " 'https://www.engelberg.ch/en/',\n",
       " 'https://www.jula.no/vare-varehus/bergen-fyllingsdalen/',\n",
       " 'https://lingu.no/locations/bergen',\n",
       " 'https://www.airport-bergen.com/',\n",
       " 'https://www.bergen-guide.com/274.htm',\n",
       " 'https://www.strassenverkehrsamt.de/lokal/ruegen-landkreis/kfz-zulassungsstelle',\n",
       " 'https://www.silvan.dk/plus-bergen-hegn-med-espalier-trykimpraegneret-165-cm-90-cm?id=5700-1252391',\n",
       " 'https://github.com/SilasBerger',\n",
       " 'https://livbergen.de/',\n",
       " 'https://www.bergeninc.com/',\n",
       " 'https://bergensales.com/',\n",
       " 'https://bergenbf.no/',\n",
       " 'https://www.kristiania.no/studere-hos-oss/bergen/',\n",
       " 'https://akks.no/bergen/',\n",
       " 'https://www.geni.com/people/Silas-Ransberger/6000000032220140853',\n",
       " 'https://www.uib.no/en/sarssenteret',\n",
       " 'https://www.flygresor.se/norge/bergen',\n",
       " 'http://www.bergen-group.no/',\n",
       " 'https://www.norled.no/kart-og-rutetider/hurtigbat/sogn-og-fjordane/',\n",
       " 'https://www.bt.dk/krimi/grotesk-forloeb-i-voldssag-lang-ventetid-gav-rabat-til-silas-lunds-voldsmand',\n",
       " 'https://bergen2017.no/',\n",
       " 'https://www.volvat.no/lokasjoner/bergen/tjenester/gynekologi/',\n",
       " 'https://www.behance.net/silasJ',\n",
       " 'https://www.eurodent.no/tannlege-bergen/',\n",
       " 'https://www.flybussen.no/ruter/bergen',\n",
       " 'https://bergenstorsenter.no/',\n",
       " 'https://www.bergeneholm.no/',\n",
       " 'https://flessenpostuitbergen.nl/',\n",
       " 'https://gnula.se/capitulos/aber-bergen/',\n",
       " 'https://www.vy.no/tog/bergen-voss',\n",
       " 'https://www.dictionary.com/browse/bergen',\n",
       " 'http://dictionary.sensagent.com/Silas_Holst/da-da/',\n",
       " 'https://www.vitals.com/doctors/Dr_Silas_Gbenle.html',\n",
       " 'https://bergeninstallasjon.no/',\n",
       " 'https://bergenspillfestival.no/',\n",
       " 'https://www.expedia.com/Bergen-Hotels-Citybox-Bergen.h9766626.Hotel-Information',\n",
       " 'https://www.engelberg.ch/en/',\n",
       " 'https://www.ikea.com/be/nl/cat/opbergen-en-organiseren-st001/',\n",
       " 'https://www.nj.com/bergen/',\n",
       " 'https://www.flickr.com/photos/unibergen/',\n",
       " 'https://www.skoringen.no/finn-butikk/skoringen-sundt-bergen',\n",
       " 'https://www.kaunosilas.lt/',\n",
       " 'https://gezimanya.com/bergen',\n",
       " 'http://www.silas.lt/',\n",
       " 'https://www.muzikdinle.com.tr/bergen-sarkilari',\n",
       " 'https://www.webcamtaxi.com/en/norway/hordaland/bergen-line.html',\n",
       " 'https://www.babynamewizard.com/voyager',\n",
       " 'https://prezi.com/owv_wm5tpyjq/presentation/',\n",
       " 'https://www.uol.com.br/',\n",
       " 'https://www.forumaski.com/biyografiler/142300-bergen-sarkici-kimdir-biyografisi.html',\n",
       " 'https://classicdb.ch/?npc=14823',\n",
       " 'https://www.biyografi.info/kisi/bergen',\n",
       " 'https://www.hurriyet.com.tr/kelebek/bergen-kimdir-40041174',\n",
       " 'https://balticlivecam.com/cameras/norway/bergen/finse-station/',\n",
       " 'https://catfishes.ru/anglijskie-imena-koshek/',\n",
       " 'https://www.raskakcija.lt/iki-akcijos.htm',\n",
       " 'https://www.canalrcn.com/',\n",
       " 'https://www.mynet.com/bergen-i-olduren-halis-serbest-cocuga-cinsel-istismardan-tutuklandi-163134-mymagazin',\n",
       " 'https://www.mytischtennis.de/clicktt/home/',\n",
       " 'https://www.afkarena.net/',\n",
       " 'http://www.google.de/',\n",
       " 'https://bobbergen.com/',\n",
       " 'http://www.silasella.com.tr/',\n",
       " 'https://www.newsday.com/',\n",
       " 'https://bandcamp.com/',\n",
       " 'https://gauchazh.clicrbs.com.br/',\n",
       " 'https://heilige.de/',\n",
       " 'http://bilgifili.com/acilarin-kadini-bergen-kimdir-nasil-olduruldu/',\n",
       " 'http://www.silasella.com.tr/',\n",
       " 'https://www.newsday.com/',\n",
       " 'https://bandcamp.com/',\n",
       " 'https://gauchazh.clicrbs.com.br/',\n",
       " 'https://heilige.de/',\n",
       " 'http://bilgifili.com/acilarin-kadini-bergen-kimdir-nasil-olduruldu/',\n",
       " 'https://www.energysolutions.com/',\n",
       " 'https://sarki.alternatifim.com/sarkici/bergen/garibin-cilesi-mezarda-biter',\n",
       " 'https://www.homes.com/',\n",
       " 'https://domene.shop/',\n",
       " 'https://www.baden-wuerttemberg.de/',\n",
       " 'https://www.superhaber.tv/bergeni-olduren-kocasi-halis-serbest-kimdir-haber-104598',\n",
       " 'https://www.focus.de/finanzen/boerse/aktien/konzern-kuendigt-widerspruch-an-tesla-soll-zahlen-umweltbundesamt-verhaengt-wegen-verstoss-saftige-geldstrafe_id_12607558.html',\n",
       " 'https://www.nhh.no/en/',\n",
       " 'https://www.hvl.no/en/',\n",
       " 'https://www.dailymotion.com/video/xhvgnf',\n",
       " 'https://archive.bookfrom.net/',\n",
       " 'https://prmovies.com/',\n",
       " 'https://www.basketball-reference.com/',\n",
       " 'https://de.thejigsawpuzzles.com/Waterfalls/Mount-Fitz-Roy-Los-Glaciares-NP-Argentina-jigsaw-puzzle',\n",
       " 'https://rail.cc/en/blog/oslo-bergen-train-norway',\n",
       " 'https://www.urlaubsguru.de/lexikon/jugendherberge/',\n",
       " 'https://www.aok.de/',\n",
       " 'https://www.arcor.de/article/News-Regional-Baden-Wuerttemberg--Gaeste-ohne-Maske-trotz-Sperrstunde-im-Lokal--Polizei-handelt/hub01-home-news-regional-baden_wuerttemberg/9815928',\n",
       " 'https://qnapclub.eu/',\n",
       " 'https://yoursite.com/',\n",
       " 'https://www.kimdirkim.com/bergen-kimdir-nereli-biyografisi.html',\n",
       " 'https://engvideo.pro/ru/serials/grimm/',\n",
       " 'https://www.bgta.no/',\n",
       " 'https://www.timeanddate.com/sun/',\n",
       " 'https://www.aferry.com/bergen-ferry.htm',\n",
       " 'https://www.google.com.br/',\n",
       " 'https://berget-events.com/',\n",
       " 'https://ok.ru/video/7817333473',\n",
       " 'https://service.berlin.de/standorte/buergeraemter/',\n",
       " 'https://www.hearthstonetopdecks.com/cards/silas-darkmoon/',\n",
       " 'https://radio.tools/',\n",
       " 'https://www.reporter.am/',\n",
       " 'https://sunsetsunrisetime.com/',\n",
       " 'https://drakor.vip/']"
      ]
     },
     "metadata": {},
     "execution_count": 36
    }
   ],
   "source": [
    "(driver\n",
    ">> find_elements_by_class_name('results_links_deep')\n",
    ">> map(find_element_by_tag_name('a'))\n",
    ">> map(get_attribute('href'))\n",
    ")"
   ]
  },
  {
   "cell_type": "code",
   "execution_count": null,
   "metadata": {},
   "outputs": [],
   "source": []
  },
  {
   "cell_type": "markdown",
   "metadata": {},
   "source": [
    "## <font color=\"red\"> Exercise 3 </font> \n",
    "\n",
    "Suppose that we want more than 1 page of results.  Inspect the page and find the more button. **Hint:** Right click won't work here, you will need to inspect a nearby element then navigate to the element in the console.\n",
    "\n",
    "Once you have found this button, click it at least three times, then get all of search result links."
   ]
  },
  {
   "cell_type": "code",
   "execution_count": 35,
   "metadata": {},
   "outputs": [],
   "source": [
    "# Your code here\n",
    "more_button = driver.find_element_by_class_name('result--more')\n",
    "more_button.click()"
   ]
  },
  {
   "cell_type": "code",
   "execution_count": 37,
   "metadata": {},
   "outputs": [],
   "source": [
    "all_links = (driver\n",
    ">> find_elements_by_class_name('results_links_deep')\n",
    ">> map(find_element_by_tag_name('a'))\n",
    ">> map(get_attribute('href'))\n",
    ")"
   ]
  },
  {
   "cell_type": "markdown",
   "metadata": {},
   "source": [
    "## Headless operation\n",
    "\n",
    "While the extra window is useful for exploring results, it gets annoying when rerunning common searches.  In this case, we want to run the search in headless mode."
   ]
  },
  {
   "cell_type": "code",
   "execution_count": 38,
   "metadata": {
    "tags": [
     "outputPrepend"
    ]
   },
   "outputs": [
    {
     "output_type": "stream",
     "name": "stdout",
     "text": [
      "cdn.cookielaw.org/logos/50b45312-ab08-436b-adc7-79156d8394f7/fbf3549c-4010-4bc2-8e8e-7077219d886e/a9e434c0-45f5-46cf-8f9c-c267f3130104/grey_racetrack.png&quot;)\"></div></div><h3 id=\"pc-title\">Cookie Collection Practices</h3><div id=\"pc-policy-text\">When you visit our websites or utilize our services, we store cookies on your browser to collect information. The information collected might relate to you, your preferences or your device, and is used to make the sites or services work as you expect it to and to provide a more personalized experience when using our websites and services. However, you can choose not to allow certain types of cookies, which may impact your experience of the site and the services we are able to offer. Click on the different category headings to find out more and change our default settings according to your preference. Please note that you cannot opt-out of our Strictly Necessary Cookies as they are deployed in order to ensure the proper functioning of our websites or services (such as remembering your settings, to log into your account, to redirect you when you log out, etc.).</div><div id=\"accept-recommended-container\" class=\"ot-sdk-row\"><div class=\"ot-sdk-column\"><button id=\"accept-recommended-btn-handler\" class=\"button-theme\">Allow All</button></div></div><section id=\"cookie-preferences\" class=\"ot-sdk-row category-group\"><h3 id=\"manage-cookies-text\">Cookie Collection Preferences</h3><div class=\"ot-accordion-layout category-item\" data-optanongroupid=\"C0001\"><input type=\"checkbox\" name=\"storage-access\" id=\"ot-group-id-C0001-toggle\" aria-expanded=\"false\" ot-accordion=\"true\" role=\"button\" aria-controls=\"ot-desc-id-C0001\" aria-labelledby=\"ot-header-id-C0001\"><!-- Accordion header --><div class=\"accordion-header ot-always-active-group\"><h4 class=\"category-header\" id=\"ot-header-id-C0001\">Strictly Necessary Cookies</h4><!-- Group toggle --><div class=\"ot-arrow-container\"><svg class=\"ot-arrow\" width=\"15px\" height=\"15px\" aria-hidden=\"true\" focusable=\"false\" data-prefix=\"fas\" data-icon=\"caret-right\" role=\"img\" xmlns=\"http://www.w3.org/2000/svg\" viewBox=\"0 0 192 512\"><path fill=\"currentColor\" d=\"M0 384.662V127.338c0-17.818 21.543-26.741 34.142-14.142l128.662 128.662c7.81 7.81 7.81 20.474 0 28.284L34.142 398.804C21.543 411.404 0 402.48 0 384.662z\"></path></svg></div><div class=\"ot-always-active\">Always Active</div><div class=\"ot-switch ot-toggle ot-hide-tgl\"><input type=\"checkbox\" name=\"ot-group-id-C0001\" class=\"switch-checkbox category-switch-handler\" id=\"ot-group-id-C0001\" aria-checked=\"true\" role=\"switch\" aria-hidden=\"true\" data-optanongroupid=\"C0001\" checked=\"\" aria-labelledby=\"ot-header-id-C0001\"> <label class=\"ot-switch-label\" for=\"ot-group-id-C0001\"><span class=\"ot-switch-inner\"></span> <span class=\"ot-switch-nob\"></span> <span class=\"label-text\">Strictly Necessary Cookies</span></label></div></div><!-- accordion detail --><div class=\"ot-accordion-pc-container accordion-text\"><p class=\"ot-accordion-group-pc-container ot-category-desc\" id=\"ot-desc-id-C0001\">These cookies are necessary for the websites or services to function and cannot be switched off in our systems. They are usually only set in response to actions made by you which amount to a request for services, such as logging in or filling in forms. You can set your browser to block or alert you about these cookies, but some parts of the site will not function. These cookies do not store any personally identifiable information.</p><!-- COOKIE SUBGROUPS*** --><!-- COOKIE SUBGROUPS END*** --></div></div><div class=\"ot-accordion-layout category-item\" data-optanongroupid=\"C0002\"><input type=\"checkbox\" name=\"storage-access\" id=\"ot-group-id-C0002-toggle\" aria-expanded=\"false\" ot-accordion=\"true\" role=\"button\" aria-controls=\"ot-desc-id-C0002\" aria-labelledby=\"ot-header-id-C0002\"><!-- Accordion header --><div class=\"accordion-header\"><h4 class=\"category-header\" id=\"ot-header-id-C0002\">Performance Cookies</h4><!-- Group toggle --><div class=\"ot-arrow-container\"><svg class=\"ot-arrow\" width=\"15px\" height=\"15px\" aria-hidden=\"true\" focusable=\"false\" data-prefix=\"fas\" data-icon=\"caret-right\" role=\"img\" xmlns=\"http://www.w3.org/2000/svg\" viewBox=\"0 0 192 512\"><path fill=\"currentColor\" d=\"M0 384.662V127.338c0-17.818 21.543-26.741 34.142-14.142l128.662 128.662c7.81 7.81 7.81 20.474 0 28.284L34.142 398.804C21.543 411.404 0 402.48 0 384.662z\"></path></svg></div><div class=\"ot-switch ot-toggle\"><input type=\"checkbox\" name=\"ot-group-id-C0002\" class=\"switch-checkbox category-switch-handler\" id=\"ot-group-id-C0002\" aria-checked=\"true\" role=\"switch\" data-optanongroupid=\"C0002\" checked=\"\" aria-labelledby=\"ot-header-id-C0002\"> <label class=\"ot-switch-label\" for=\"ot-group-id-C0002\"><span class=\"ot-switch-inner\"></span> <span class=\"ot-switch-nob\"></span> <span class=\"label-text\">Performance Cookies</span></label></div></div><!-- accordion detail --><div class=\"ot-accordion-pc-container accordion-text\"><p class=\"ot-accordion-group-pc-container ot-category-desc\" id=\"ot-desc-id-C0002\">These cookies allow us to count visits and traffic sources so we can measure and improve the performance of our websites and services. They help us to know which pages are the most and least popular and see how visitors move around and utilize our websites and services. If you do not allow these cookies, we will not be able to monitor the performance of our websites and services.</p><!-- COOKIE SUBGROUPS*** --><!-- COOKIE SUBGROUPS END*** --></div></div><div class=\"ot-accordion-layout category-item\" data-optanongroupid=\"C0004\"><input type=\"checkbox\" name=\"storage-access\" id=\"ot-group-id-C0004-toggle\" aria-expanded=\"false\" ot-accordion=\"true\" role=\"button\" aria-controls=\"ot-desc-id-C0004\" aria-labelledby=\"ot-header-id-C0004\"><!-- Accordion header --><div class=\"accordion-header\"><h4 class=\"category-header\" id=\"ot-header-id-C0004\">Targeting Cookies</h4><!-- Group toggle --><div class=\"ot-arrow-container\"><svg class=\"ot-arrow\" width=\"15px\" height=\"15px\" aria-hidden=\"true\" focusable=\"false\" data-prefix=\"fas\" data-icon=\"caret-right\" role=\"img\" xmlns=\"http://www.w3.org/2000/svg\" viewBox=\"0 0 192 512\"><path fill=\"currentColor\" d=\"M0 384.662V127.338c0-17.818 21.543-26.741 34.142-14.142l128.662 128.662c7.81 7.81 7.81 20.474 0 28.284L34.142 398.804C21.543 411.404 0 402.48 0 384.662z\"></path></svg></div><div class=\"ot-switch ot-toggle\"><input type=\"checkbox\" name=\"ot-group-id-C0004\" class=\"switch-checkbox category-switch-handler\" id=\"ot-group-id-C0004\" aria-checked=\"true\" role=\"switch\" data-optanongroupid=\"C0004\" checked=\"\" aria-labelledby=\"ot-header-id-C0004\"> <label class=\"ot-switch-label\" for=\"ot-group-id-C0004\"><span class=\"ot-switch-inner\"></span> <span class=\"ot-switch-nob\"></span> <span class=\"label-text\">Targeting Cookies</span></label></div></div><!-- accordion detail --><div class=\"ot-accordion-pc-container accordion-text\"><p class=\"ot-accordion-group-pc-container ot-category-desc\" id=\"ot-desc-id-C0004\">These cookies may be set through our websites and services by our third-party advertising partners. They may be used by those partners to build a profile of your interests and show you relevant advertisements on other websites. They do not store directly personal information, but are based on uniquely identifying your browser and device. If you do not allow these cookies, you will not receive targeted or interest-based advertisements.</p><!-- COOKIE SUBGROUPS*** --><!-- COOKIE SUBGROUPS END*** --></div></div><!-- Groups sections starts --><!-- Group section ends --><!-- Accordion Group section starts --><!-- Accordion Group section ends --><!-- Footer section starts --><div class=\"save-preference-btn-container\"> <button class=\"save-preference-btn-handler onetrust-close-btn-handler button-theme\">Confirm My Choices</button><div class=\"ot-pc-footer-logo\"><a class=\"powered-by-logo\" href=\"https://onetrust.com/poweredbyonetrust\" target=\"_blank\" rel=\"noopener\" aria-label=\"Powered by Onetrust\" style=\"background-image: url(&quot;https://cdn.cookielaw.org/logos/static/poweredBy_ot_logo.svg&quot;)\"></a></div></div><!-- Footer section ends --></section></div><section id=\"vendors-list\" class=\"ot-hide hosts-list\"><div id=\"vendors-list-header\"><a class=\"back-btn-handler\" role=\"button\" href=\"javascript:void(0)\" aria-label=\"Back\"><svg id=\"ot-back-arrow\" xmlns=\"http://www.w3.org/2000/svg\" xmlns:xlink=\"http://www.w3.org/1999/xlink\" x=\"0px\" y=\"0px\" viewBox=\"0 0 444.531 444.531\" xml:space=\"preserve\"><title>Back Button</title><g><path fill=\"#656565\" d=\"M213.13,222.409L351.88,83.653c7.05-7.043,10.567-15.657,10.567-25.841c0-10.183-3.518-18.793-10.567-25.835\n                      l-21.409-21.416C323.432,3.521,314.817,0,304.637,0s-18.791,3.521-25.841,10.561L92.649,196.425\n                      c-7.044,7.043-10.566,15.656-10.566,25.841s3.521,18.791,10.566,25.837l186.146,185.864c7.05,7.043,15.66,10.564,25.841,10.564\n                      s18.795-3.521,25.834-10.564l21.409-21.412c7.05-7.039,10.567-15.604,10.567-25.697c0-10.085-3.518-18.746-10.567-25.978\n                      L213.13,222.409z\"></path></g></svg><p class=\"pc-back-button-text\">Back</p></a><!-- Close Button --> <button id=\"vendor-close-pc-btn-handler\" class=\"vendors-list pc-close-button ot-close-icon\" aria-label=\"Close\"></button><!-- Close Button --><h3 id=\"vendors-list-title\">Performance Cookies</h3><div id=\"search-container\"><label for=\"vendor-search-handler\" class=\"screen-reader-only\">Vendor Search</label> <input id=\"vendor-search-handler\" type=\"text\" placeholder=\"Search...\" name=\"vendor-search-handler\"> <svg xmlns=\"http://www.w3.org/2000/svg\" xmlns:xlink=\"http://www.w3.org/1999/xlink\" x=\"0px\" y=\"0px\" width=\"30\" height=\"30\" viewBox=\"0 -30 110 110\"><title>Search Icon</title><path fill=\"#2e3644\" d=\"M55.146,51.887L41.588,37.786c3.486-4.144,5.396-9.358,5.396-14.786c0-12.682-10.318-23-23-23s-23,10.318-23,23\n                  s10.318,23,23,23c4.761,0,9.298-1.436,13.177-4.162l13.661,14.208c0.571,0.593,1.339,0.92,2.162,0.92\n                  c0.779,0,1.518-0.297,2.079-0.837C56.255,54.982,56.293,53.08,55.146,51.887z M23.984,6c9.374,0,17,7.626,17,17s-7.626,17-17,17\n                  s-17-7.626-17-17S14.61,6,23.984,6z\"></path></svg> <a href=\"javascript:void(0)\" id=\"filter-btn-handler\" role=\"button\" aria-label=\"Filter Icon\"><svg role=\"presentation\" aria-hidden=\"true\" id=\"filter-icon\" xmlns=\"http://www.w3.org/2000/svg\" xmlns:xlink=\"http://www.w3.org/1999/xlink\" x=\"0px\" y=\"0px\" width=\"15px\" height=\"15px\" viewBox=\"0 0 402.577 402.577\" style=\"enable-background:new 0 0 402.577 402.577;\" xml:space=\"preserve\"><title>Filter Icon</title><g><path id=\"filter-icon-path\" fill=\"#656565\" d=\"M400.858,11.427c-3.241-7.421-8.85-11.132-16.854-11.136H18.564c-7.993,0-13.61,3.715-16.846,11.136\n                c-3.234,7.801-1.903,14.467,3.999,19.985l140.757,140.753v138.755c0,4.955,1.809,9.232,5.424,12.854l73.085,73.083\n                c3.429,3.614,7.71,5.428,12.851,5.428c2.282,0,4.66-0.479,7.135-1.43c7.426-3.238,11.14-8.851,11.14-16.845V172.166L396.861,31.413\n                C402.765,25.895,404.093,19.231,400.858,11.427z\"></path></g></svg></a><div id=\"ot-triangle\"></div><section id=\"ot-filter-modal\"><div id=\"ot-options\"><div id=\"clear-filters-container\"><a href=\"javascript:void(0)\" id=\"clear-filters-handler\" role=\"button\"><p>Clear Filters</p></a></div><div class=\"ot-group-options\"><div class=\"ot-group-option\"><div class=\"ot-checkbox\"><input id=\"storage-access-group\" class=\"ot-group-option-box category-filter-handler\" type=\"checkbox\"> <label for=\"storage-access-group\"><span>Information storage and access</span></label></div></div></div><button id=\"filter-apply-handler\" class=\"ot-pill\">Apply</button></div></section></div><div id=\"select-all-container\"><div class=\"ot-checkbox\"><div class=\"leg-int-sel-all-hdr\"><span class=\"consent-hdr\">Consent</span> <span class=\"leg-int-hdr\">Leg.Interest</span></div><div id=\"select-all-text-container\"><p>All Consent Allowed</p></div><!-- select all vendor leg.int toggle container --><div id=\"select-all-vendors-leg-input-container\"><input id=\"select-all-vendor-leg-handler\" class=\"ot-group-option-box\" type=\"checkbox\"> <label for=\"select-all-vendor-leg-handler\"><span class=\"label-text\">Select All Vendors</span></label></div><!-- select all vendor consent toggle container --><div id=\"select-all-vendors-input-container\"><input id=\"select-all-vendor-groups-handler\" class=\"ot-group-option-box\" type=\"checkbox\"> <label for=\"select-all-vendor-groups-handler\"><span class=\"label-text\">Select All Vendors</span></label></div><!-- Hosts select all input container --><div id=\"select-all-hosts-input-container\"><input id=\"select-all-hosts-groups-handler\" class=\"ot-group-option-box\" type=\"checkbox\"> <label for=\"select-all-hosts-groups-handler\"><span class=\"label-text\">All Consent Allowed</span></label></div></div></div></div><section id=\"vendor-list-content\" class=\"host-list-content\"><div id=\"vendors-list-text\" class=\"ot-sdk-row\"><div class=\"ot-sdk-column\"><ul id=\"hosts-list-container\"><li class=\"host-item\"><input type=\"checkbox\" class=\"host-box\" role=\"button\" aria-expanded=\"false\" aria-label=\"33Across\"><section class=\"accordion-header\"><div class=\"host-info\"><h3 class=\"host-title\">33Across</h3><h4 class=\"host-description\">host description</h4><!-- view third party cookie link with arrow --><div class=\"host-notice\"><h4 class=\"host-view-cookies\">View Cookies</h4><div class=\"ot-arrow-container\"></div></div></div><!-- Checkbox --><div class=\"ot-checkbox ot-host-tgl\"><input id=\"REPLACE-WITH-DYANMIC-HOST-ID\" class=\"host-checkbox-handler ot-group-option-box\" type=\"checkbox\"> <label for=\"REPLACE-WITH-DYANMIC-HOST-ID\"><span class=\"label-text\">REPLACE-WITH-DYANMIC-HOST-ID</span></label></div><!-- Checkbox END --></section><div class=\"accordion-text\"><div class=\"host-options\"><!-- HOST LIST VIEW UPDATE *** --><ul class=\"host-option-group\"><li class=\"vendor-host\"><div class=\"cookie-name-container\"><div>Name</div><div>cookie name</div></div></li></ul><!-- HOST LIST VIEW UPDATE END *** --></div></div></li></ul><ul id=\"vendors-list-container\"><li class=\"vendor-item\"><input type=\"checkbox\" class=\"vendor-box\" role=\"button\" aria-expanded=\"false\" aria-label=\"33Across\"><section class=\"accordion-header\"><!-- Vendor name policy link --><div class=\"vendor-info\"><h3 class=\"vendor-title\">33Across</h3><a class=\"vendor-privacy-notice\" href=\"#\">View Privacy Notice</a></div><!-- purposes count --><div class=\"vendor-purposes\"><p>3 Purposes</p></div><!-- toggles and arrow --><div class=\"ot-toggle-group\"><!-- Checkbox --><div class=\"ot-checkbox\"><input id=\"REPLACE-WITH-DYANMIC-VENDOR-ID\" class=\"vendor-checkbox vendor-checkbox-handler ot-group-option-box\" type=\"checkbox\"> <label for=\"REPLACE-WITH-DYANMIC-VENDOR-ID\"><span class=\"label-text\">REPLACE-WITH-DYANMIC-VENDOR-ID</span></label></div><!-- Checkbox END --><div class=\"ot-arrow-container\"><svg class=\"ot-arrow\" xmlns=\"http://www.w3.org/2000/svg\" xmlns:xlink=\"http://www.w3.org/1999/xlink\" x=\"0px\" y=\"0px\" width=\"10px\" height=\"10px\" viewBox=\"0 0 451.846 451.847\" style=\"enable-background:new 0 0 451.846 451.847;\" xml:space=\"preserve\"><title>Arrow</title><g><path fill=\"#7b7b7b\" d=\"M345.441,248.292L151.154,442.573c-12.359,12.365-32.397,12.365-44.75,0c-12.354-12.354-12.354-32.391,0-44.744\n                        L278.318,225.92L106.409,54.017c-12.354-12.359-12.354-32.394,0-44.748c12.354-12.359,32.391-12.359,44.75,0l194.287,194.284\n                        c6.177,6.18,9.262,14.271,9.262,22.366C354.708,234.018,351.617,242.115,345.441,248.292z\"></path></g></svg></div></div></section><div class=\"accordion-text\"><div class=\"vendor-options\"><!-- VENDOR PURPOSE UPDATE *** --><div class=\"vendor-purpose-groups\"><!-- vendor purposes --><div class=\"vendor-option vendor-option-purpose\"><p>Consent Purposes</p></div><div class=\"vendor-consent-group\"><p class=\"consent-category\">Location Based Ads</p><p class=\"consent-status\">Consent Allowed</p></div><!-- vendor legitimate interest purposes --><div class=\"vendor-option vendor-option-purpose legitimate-interest\"><p>Legitimate Interest Purposes</p></div><div class=\"vendor-consent-group legitimate-interest-group\"><p class=\"consent-category\">Personalize</p><a href=\"#\" class=\"vendor-opt-out-handler\" aria-label=\"Require Opt-Out\"><div class=\"op-out-group\"><span>Require Opt-Out</span> <svg x=\"0px\" y=\"0px\" width=\"15\" height=\"15\" viewBox=\"0 0 511.626 511.627\" style=\"enable-background:new 0 0 511.626 511.627;\" xml:space=\"preserve\"><g fill=\"#718593\"><g><path d=\"M392.857,292.354h-18.274c-2.669,0-4.859,0.855-6.563,2.573c-1.718,1.708-2.573,3.897-2.573,6.563v91.361\n                                  c0,12.563-4.47,23.315-13.415,32.262c-8.945,8.945-19.701,13.414-32.264,13.414H82.224c-12.562,0-23.317-4.469-32.264-13.414\n                                  c-8.945-8.946-13.417-19.698-13.417-32.262V155.31c0-12.562,4.471-23.313,13.417-32.259c8.947-8.947,19.702-13.418,32.264-13.418\n                                  h200.994c2.669,0,4.859-0.859,6.57-2.57c1.711-1.713,2.566-3.9,2.566-6.567V82.221c0-2.662-0.855-4.853-2.566-6.563\n                                  c-1.711-1.713-3.901-2.568-6.57-2.568H82.224c-22.648,0-42.016,8.042-58.102,24.125C8.042,113.297,0,132.665,0,155.313v237.542\n                                  c0,22.647,8.042,42.018,24.123,58.095c16.086,16.084,35.454,24.13,58.102,24.13h237.543c22.647,0,42.017-8.046,58.101-24.13\n                                  c16.085-16.077,24.127-35.447,24.127-58.095v-91.358c0-2.669-0.856-4.859-2.574-6.57\n                                  C397.709,293.209,395.519,292.354,392.857,292.354z\"></path><path d=\"M506.199,41.971c-3.617-3.617-7.905-5.424-12.85-5.424H347.171c-4.948,0-9.233,1.807-12.847,5.424\n                                  c-3.617,3.615-5.428,7.898-5.428,12.847s1.811,9.233,5.428,12.85l50.247,50.248L198.424,304.067\n                                  c-1.906,1.903-2.856,4.093-2.856,6.563c0,2.479,0.953,4.668,2.856,6.571l32.548,32.544c1.903,1.903,4.093,2.852,6.567,2.852\n                                  s4.665-0.948,6.567-2.852l186.148-186.148l50.251,50.248c3.614,3.617,7.898,5.426,12.847,5.426s9.233-1.809,12.851-5.426\n                                  c3.617-3.616,5.424-7.898,5.424-12.847V54.818C511.626,49.866,509.813,45.586,506.199,41.971z\"></path></g></g></svg></div></a></div><!-- Vendor special purposes --><div class=\"vendor-option-purpose spl-purpose\"><p>Special Purposes</p></div><div class=\"vendor-consent-group spl-purpose-grp\"><p class=\"consent-category\">Location Based Ads</p></div><!-- Vendor features --><div class=\"vendor-option-purpose vendor-feature\"><p>Features</p></div><div class=\"vendor-consent-group vendor-feature-group\"><p class=\"consent-category\">Location Based Ads</p></div><!-- Vendor special features --><div class=\"vendor-option-purpose vendor-spl-feature\"><p>Special Features</p></div><div class=\"vendor-consent-group vendor-spl-feature-grp\"><p class=\"consent-category\">Location Based Ads</p></div></div><!-- VENDOR PURPOSE UPDATE END *** --></div></div></li></ul></div></div></section><div id=\"vendor-list-save-btn\" class=\"save-preference-btn-container\"> <button class=\"save-preference-btn-handler onetrust-close-btn-handler button-theme\">Confirm My Choices</button><div class=\"ot-pc-footer-logo\"><a class=\"powered-by-logo\" href=\"https://onetrust.com/poweredbyonetrust\" target=\"_blank\" rel=\"noopener\" aria-label=\"Powered by One Trust\" style=\"background-image: url(&quot;https://cdn.cookielaw.org/logos/static/poweredBy_ot_logo.svg&quot;)\"></a></div></div></section><iframe class=\"ot-text-resize\" title=\"onetrust-text-resize\" style=\"position:absolute;top:-50000px;width:100em;\" aria-hidden=\"true\"></iframe></div></div><div class=\"alps-running-frame\" style=\"position: absolute; left: -100px; top: -100px; width: 0px; height: 0px; display: none; visibility: hidden;\"></div><script type=\"text/javascript\" src=\"https://zn5aocakgjj2uagxj-nintendoofamerica.siteintercept.qualtrics.com/WRSiteInterceptEngine/?Q_ZID=ZN_5aoCaKGJJ2UaGXj&amp;Q_LOC=https%3A%2F%2Fwww.nintendo.com%2F&amp;t=1604546563934\"></script></body></html>\n"
     ]
    }
   ],
   "source": [
    "from selenium import webdriver\n",
    "from selenium.webdriver.chrome.options import Options\n",
    "\n",
    "options = Options()\n",
    "options.headless = True\n",
    "options.add_argument(\"--window-size=1920,1200\")\n",
    "\n",
    "driver = webdriver.Chrome(options=options, executable_path=DRIVER_PATH)\n",
    "driver.get(\"https://www.nintendo.com/\")\n",
    "print(driver.page_source)\n",
    "driver.quit()"
   ]
  }
 ],
 "metadata": {
  "kernelspec": {
   "display_name": "Python 3",
   "language": "python",
   "name": "python3"
  },
  "language_info": {
   "codemirror_mode": {
    "name": "ipython",
    "version": 3
   },
   "file_extension": ".py",
   "mimetype": "text/x-python",
   "name": "python",
   "nbconvert_exporter": "python",
   "pygments_lexer": "ipython3",
   "version": "3.7.6-final"
  }
 },
 "nbformat": 4,
 "nbformat_minor": 2
}