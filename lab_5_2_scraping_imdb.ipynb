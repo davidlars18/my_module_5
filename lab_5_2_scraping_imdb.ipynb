{
 "cells": [
  {
   "cell_type": "markdown",
   "metadata": {},
   "source": [
    "# Lab 5.2 -- Scraping IMBD\n",
    "\n",
    "Our goal is to scrap [IMDB](imdb.com) user reviews for *Borat Subsequent Moviefilm*.  Unfortunately, the page for user reviews only shows a limited number of reviews and you can't access additional pages through a link.  `selenium` to the rescue! In this lab, we will combine our two approaches to web scraping by\n",
    "\n",
    "1. Using `selenium` to load the page and click the *Load More* until we have all the reviews.\n",
    "2. Creating a `BeautifulSoup` instance for the complete page and parsing the results."
   ]
  },
  {
   "cell_type": "code",
   "execution_count": 1,
   "metadata": {},
   "outputs": [],
   "source": [
    "from selenium import webdriver\n",
    "from composable import pipeable"
   ]
  },
  {
   "cell_type": "markdown",
   "metadata": {},
   "source": [
    "### Task 1 -- Load the reviews.\n",
    "\n",
    "Explore IMBD to find the web link for the user reviews for *Borat Subsequent Moviefilm* and load this page in Python with `selenium`."
   ]
  },
  {
   "cell_type": "code",
   "execution_count": 2,
   "metadata": {},
   "outputs": [],
   "source": [
    "# Your code here\n",
    "DRIVER_PATH = '/mnt/c/Users/le7858ey/Desktop/chromedriver.exe'\n",
    "driver = webdriver.Chrome(executable_path=DRIVER_PATH)\n",
    "driver.get('https://www.imdb.com/title/tt13143964/reviews?ref_=tt_ql_3')"
   ]
  },
  {
   "cell_type": "markdown",
   "metadata": {},
   "source": [
    "### Task 2 -- Figure out how to click the *Load More* button.\n",
    "\n",
    "To load all of the user reviews, we need to click the *Load More* button multiple times.  First, find the corresponding WebElement and verify that clicking this button loads another page of results."
   ]
  },
  {
   "cell_type": "code",
   "execution_count": 20,
   "metadata": {},
   "outputs": [],
   "source": [
    "# Your code here\n",
    "more_button = driver.find_element_by_class_name('ipl-load-more__button')\n",
    "more_button.click()"
   ]
  },
  {
   "cell_type": "markdown",
   "metadata": {},
   "source": [
    "### Task 3 -- Click *Load More* until you have all the results.\n",
    "\n",
    "Now you need to write code that will keep clicking the *Load More* button when you find it.  **Hint:** We can think of this as an example of an *unfold* process, meaning you should use a `while` loop combined with a [try-and-except statement](https://pythonbasics.org/try-except/) to keep trying to click the button.  To make sure you don't get an infinite loop, use a variable to identify and hold the stopping condition/state."
   ]
  },
  {
   "cell_type": "code",
   "execution_count": 3,
   "metadata": {},
   "outputs": [],
   "source": [
    "from selenium.webdriver.common.by import By \n",
    "from selenium.webdriver.support.ui import WebDriverWait\n",
    "from selenium.webdriver.support import expected_conditions as EC"
   ]
  },
  {
   "cell_type": "code",
   "execution_count": 5,
   "metadata": {},
   "outputs": [
    {
     "output_type": "stream",
     "name": "stdout",
     "text": [
      "No more\n"
     ]
    }
   ],
   "source": [
    "# Your code here\n",
    "all_clear = True\n",
    "i = 0\n",
    "while(all_clear == True and i < 200):\n",
    "    try:\n",
    "        more_button = driver.find_element_by_class_name('ipl-load-more__button')\n",
    "        more_button.click()\n",
    "        i += 1\n",
    "    except:\n",
    "        all_clear = False\n",
    "        print('No more')"
   ]
  },
  {
   "cell_type": "code",
   "execution_count": 10,
   "metadata": {},
   "outputs": [
    {
     "output_type": "stream",
     "name": "stdout",
     "text": [
      "Clicked 1 times.\n",
      "Clicked 2 times.\n",
      "Clicked 3 times.\n",
      "Clicked 4 times.\n",
      "Clicked 5 times.\n",
      "Clicked 6 times.\n",
      "Clicked 7 times.\n",
      "Clicked 8 times.\n",
      "Clicked 9 times.\n",
      "Clicked 10 times.\n",
      "Clicked 11 times.\n",
      "Clicked 12 times.\n",
      "Clicked 13 times.\n",
      "Clicked 14 times.\n",
      "Clicked 15 times.\n",
      "Clicked 16 times.\n",
      "Clicked 17 times.\n",
      "Clicked 18 times.\n",
      "Clicked 19 times.\n",
      "Clicked 20 times.\n",
      "Clicked 21 times.\n",
      "Clicked 22 times.\n",
      "Clicked 23 times.\n",
      "Clicked 24 times.\n",
      "Clicked 25 times.\n",
      "Clicked 26 times.\n",
      "Clicked 27 times.\n",
      "Clicked 28 times.\n",
      "Clicked 29 times.\n",
      "Clicked 30 times.\n",
      "Clicked 31 times.\n",
      "Clicked 32 times.\n",
      "Clicked 33 times.\n",
      "No more\n"
     ]
    }
   ],
   "source": [
    "wait = WebDriverWait(driver, 10)\n",
    "get_more = wait.until(EC.element_to_be_clickable((By.ID, 'load-more-trigger')))\n",
    "all_clear = True\n",
    "i = 0\n",
    "while(all_clear == True and i < 200):\n",
    "    try:\n",
    "        i += 1\n",
    "        get_more.click()\n",
    "        print('Clicked {0} times.'.format(i))\n",
    "        get_more = wait.until(EC.element_to_be_clickable((By.ID, 'load-more-trigger')))\n",
    "    except:\n",
    "        all_clear = False\n",
    "        print('No more')"
   ]
  },
  {
   "cell_type": "markdown",
   "metadata": {},
   "source": [
    "### Task 4 -- Load the results in a `BeautifulSoup` object.\n",
    "\n",
    "Since `bs4` has better tools for parsing html, we will now switch to using this module to parse the results.  Recall that you can access the content of the current content from the `selenium` driver using `driver.page_source`.  You can use this attribute to make a `soup` object for the page using \n",
    "\n",
    "> soup = BeautifulSoup(driver.page_source, 'html.parser')"
   ]
  },
  {
   "cell_type": "code",
   "execution_count": 12,
   "metadata": {},
   "outputs": [],
   "source": [
    "from composable import pipeable\n",
    "from composable.strict import map, filter\n",
    "from composablesoup import find, find_all, get_text, has_attr\n",
    "from composablesoup.soup import find_parent, parents, children, find_previous_sibling, find_previous_siblings, find_next_sibling, find_next_siblings, find_previous_sibling\n",
    "from composable.sequence import to_list, head\n",
    "from composable.string import strip\n",
    "from composable import from_toolz as tlz\n",
    "import requests\n",
    "from bs4 import BeautifulSoup"
   ]
  },
  {
   "cell_type": "code",
   "execution_count": 14,
   "metadata": {},
   "outputs": [],
   "source": [
    "# Your code here\n",
    "borat_reviews = BeautifulSoup(driver.page_source, 'html.parser')"
   ]
  },
  {
   "cell_type": "markdown",
   "metadata": {},
   "source": [
    "### Task 5 -- Extract the information\n",
    "\n",
    "Now extract the following data to a csv file.\n",
    "\n",
    "1. Title\n",
    "2. Score\n",
    "3. User\n",
    "4. Date\n",
    "5. Text (replace commas with semi-colons!)\n",
    "6. Two columns for X and Y, where `\"X out of Y found this helpful\"`\n",
    "7. Permanent link the the review.\n"
   ]
  },
  {
   "cell_type": "code",
   "execution_count": 1,
   "metadata": {},
   "outputs": [],
   "source": [
    "# Your code here"
   ]
  },
  {
   "cell_type": "code",
   "execution_count": 23,
   "metadata": {},
   "outputs": [],
   "source": [
    "strip = pipeable(lambda s: s.replace(',',';').strip())\n",
    "\n",
    "get_title = pipeable(lambda soup: soup\n",
    ">> find_all('div', attrs={'class':'lister-item'})\n",
    ">> map(find('a', attrs={'class':'title'}))\n",
    ">> map(get_text)\n",
    ">> map(strip)\n",
    ")"
   ]
  },
  {
   "cell_type": "code",
   "execution_count": 39,
   "metadata": {},
   "outputs": [],
   "source": [
    "score_text = pipeable(lambda s: (s >> find('div', attrs={'class':'ipl-ratings-bar'}) >> get_text >> strip) if (s >> find('div', attrs={'class':'ipl-ratings-bar'})) != None else '')\n",
    "\n",
    "get_score = pipeable(lambda soup: soup\n",
    ">> find_all('div', attrs={'class':'lister-item'})\n",
    ">> map(score_text)\n",
    ")"
   ]
  },
  {
   "cell_type": "code",
   "execution_count": 41,
   "metadata": {},
   "outputs": [],
   "source": [
    "get_user = pipeable(lambda soup: soup\n",
    ">> find_all('div', attrs={'class':'lister-item'})\n",
    ">> map(find('span', attrs={'class':'display-name-link'}))\n",
    ">> map(get_text)\n",
    ">> map(strip)\n",
    ")"
   ]
  },
  {
   "cell_type": "code",
   "execution_count": 44,
   "metadata": {},
   "outputs": [],
   "source": [
    "get_date = pipeable(lambda soup: soup\n",
    ">> find_all('div', attrs={'class':'lister-item'})\n",
    ">> map(find('span', attrs={'class':'review-date'}))\n",
    ">> map(get_text)\n",
    ">> map(strip)\n",
    ")"
   ]
  },
  {
   "cell_type": "code",
   "execution_count": 91,
   "metadata": {},
   "outputs": [],
   "source": [
    "remove_extras = pipeable(lambda s: s.replace('\\n',' ').replace('\\\\',''))\n",
    "get_review = pipeable(lambda soup: soup\n",
    ">> find_all('div', attrs={'class':'lister-item'})\n",
    ">> map(find('div', attrs={'class':'text'}))\n",
    ">> map(get_text)\n",
    ">> map(remove_extras)\n",
    ">> map(strip)\n",
    ")"
   ]
  },
  {
   "cell_type": "code",
   "execution_count": 67,
   "metadata": {},
   "outputs": [],
   "source": [
    "import re as r\n",
    "first_number = r.compile(r'(\\d+) out of \\d+ .*')\n",
    "get_first_number = pipeable(lambda s: first_number.match(s).groups()[0])\n",
    "get_first_helpful = pipeable(lambda soup: soup\n",
    ">> find_all('div', attrs={'class':'lister-item'})\n",
    ">> map(find('div', attrs={'class':'actions'}))\n",
    ">> map(get_text)\n",
    ">> map(strip)\n",
    ">> map(get_first_number)\n",
    ")"
   ]
  },
  {
   "cell_type": "code",
   "execution_count": 68,
   "metadata": {},
   "outputs": [],
   "source": [
    "second_number = r.compile(r'\\d+ out of (\\d+) .*')\n",
    "get_second_number = pipeable(lambda s: second_number.match(s).groups()[0])\n",
    "get_second_helpful = pipeable(lambda soup: soup\n",
    ">> find_all('div', attrs={'class':'lister-item'})\n",
    ">> map(find('div', attrs={'class':'actions'}))\n",
    ">> map(get_text)\n",
    ">> map(strip)\n",
    ">> map(get_second_number)\n",
    ")"
   ]
  },
  {
   "cell_type": "code",
   "execution_count": 82,
   "metadata": {},
   "outputs": [],
   "source": [
    "get_link = pipeable(lambda s: s['href'])\n",
    "\n",
    "get_permalink = pipeable(lambda soup: soup\n",
    ">> find_all('div', attrs={'class':'lister-item'})\n",
    ">> map(find('div', attrs={'class':'actions'}))\n",
    ">> map(find_all('a'))\n",
    ">> map(tlz.get(1))\n",
    ">> map(get_link)\n",
    ")"
   ]
  },
  {
   "cell_type": "code",
   "execution_count": 100,
   "metadata": {},
   "outputs": [],
   "source": [
    "def get_all_reviews(soup):\n",
    "    \"\"\"\n",
    "\n",
    "    \"\"\"\n",
    "    title = soup >> get_title\n",
    "    score = soup >> get_score\n",
    "    user = soup >>get_user\n",
    "    date = soup >> get_date\n",
    "    review = soup >> get_review\n",
    "    first = soup >> get_first_helpful\n",
    "    second = soup >> get_second_helpful\n",
    "    permalink = soup >> get_permalink  \n",
    "    output = [row for row in zip(title, score, user, date, review, first, second, permalink)]\n",
    "    return output\n",
    "\n"
   ]
  },
  {
   "cell_type": "code",
   "execution_count": 101,
   "metadata": {},
   "outputs": [
    {
     "output_type": "execute_result",
     "data": {
      "text/plain": [
       "[('Borat Make a Number 2',\n",
       "  '10/10',\n",
       "  'MissCzarChasm',\n",
       "  '29 October 2020',\n",
       "  'Borat Make a *Glorious* #2! Subsequent Moviefilm: Delivery of Prodigious Bribe to American Regime for Make Benefit Once Glorious Nation of Kazakhstan is very naiiice!America Mayor Rudolph Giuliani say he not like film.America Mayor Rudolph Giuliani say he very much LIE down to fix pants like in nation of Kazakhstan where we not stand up to tuck the shirt. Much success.You watch.Chin qui',\n",
       "  '167',\n",
       "  '243',\n",
       "  '/review/rw6217081/?ref_=tt_urv'),\n",
       " ('Excellent. And this is from a non Sasha Cohen Baron fan. REAL REVIEW.',\n",
       "  '10/10',\n",
       "  'lvanka',\n",
       "  '30 October 2020',\n",
       "  'My husband loved SCB in all his incarnations (Ali G.; Borat; Bruno; and that guy from Who is America). He\\'d quote parts of Bruno (\"But first; more dancing with Bruno!\") as he\\'d dance around me in the kitchen. He\\'d quote parts of an interview SCB did with Dick Cheney; as I rolled my eyes. Every couple of years or so; he\\'d put on Bruno or Borat; and laugh; and laugh; while I just shook my head. In short; he reverted from a mature 35 year old man; into a a teen; because of this one comedian. I kind of hated it and really didn\\'t see the appeal of Cohen\\'s comedy which I found crude and sometimes downright offensive (i.e.; \"In my country; they would go crazy for these two. That one; not so much.\"). Until this Borat 2020 film; that is.Knowing he was such a fan; the evening of the day the film came out; I grilled him a porterhouse steak in bourbon and pecans; with a baked potato smothered in broccoli and cheese sauce; and relegated myself to sit through this new Borat without looking too bored or condescending.Two things happened.One; my husband; laughed several times; of course; but he did so less heartily than he had at most of SCB\\'s prior work; and he never rewinded it to re-watch an especially funny part.Two; I loved it.This Borat film is hilarious!!! And not only is it both; in your face; and subtly hilarious; but it has sooo much heart; it nearly brought me to tears. Even the infinitely ill-informed guys he quarantined with; made me want to go out and hug a redneck.So; if you\\'re here wondering whether you should watch it (although I don\\'t think that\\'s what anyone does anymore); I suggest you do so. The worst that can happen is that you\\'ll laugh. Since when is that a bad thing? The best that can happen is that you\\'ll laugh and cry at seeing the United States in such a dire and chaotic state; and so far from united; that you will walk away with a desire to one day make it united; as the greatest gift ever to ourselves and our kids.',\n",
       "  '110',\n",
       "  '157',\n",
       "  '/review/rw6219436/?ref_=tt_urv')]"
      ]
     },
     "metadata": {},
     "execution_count": 101
    }
   ],
   "source": [
    "all_reviews = get_all_reviews(borat_reviews)\n",
    "all_reviews[:2]\n"
   ]
  },
  {
   "cell_type": "code",
   "execution_count": 125,
   "metadata": {},
   "outputs": [],
   "source": [
    "each_review = [row for row in all_reviews]\n",
    "contents = [','.join(row) for row in each_review]"
   ]
  },
  {
   "cell_type": "code",
   "execution_count": 128,
   "metadata": {},
   "outputs": [
    {
     "output_type": "execute_result",
     "data": {
      "text/plain": [
       " quite indicative of the misplaced appreciation some seem to have for this series. Cohen sabotaged the key moment of his own movie. How asinine.,1,14,/review/rw6231049/?ref_=tt_urv\\nI give credit to the actress,2/10,Pukeonthestreet,2 November 2020,She was great. But making a joke about shootings in a time when they\\'re actively happening is just f\\'d. Honestly I started off laughing at a few things then it just got dark and gross and the jewish jokes made me wish I never watched it. Upsetting.,1,14,/review/rw6229582/?ref_=tt_urv\\nOld hat,4/10,stircrazysos,2 November 2020,As a Sasha baron Cohen fan. I\\'m was disappointed. He always pushes the boundaries; but this was \"old hat\". From Ali g to the spy. The guy is genius. This film though was tripe. Same jokes; just rehashed. You can\\'t play characters like Borat; ali g or bruno. More than once; the public won\\'t fall for it. Such ashame; because the first borat film was great. Hence 4/10 come on Sasha you can do better.,1,15,/review/rw6231258/?ref_=tt_urv\\nWoeful; unfunny and nasty,2/10,dereklambe,2 November 2020,I am normally a big fan of Sacha Baron Cohen; but he should be ashamed of himself for coming out with this dross. I am sure he will pretend it was a satire of patriarchy; but really it was just an excuse to demean women for cheap laughs.,1,15,/review/rw6230957/?ref_=tt_urv\\nIt was better then the first one,2/10,fujitv-63632,2 November 2020,Idk when u can ever say the second movie was better the the first one but this was the case sad to say I liked it but I didn\\'t think they took the best approach on politics like they liked to play out in the movie as they made some scenes real life events and some choreographed how is the audience supposed to know Wuts real and not real other then thinking the whole movie is real staged hidden cam events even though it\\'s not how are the audience supposed to know the difference this movie is misleading,1,16,/review/rw6229552/?ref_=tt_urv\\nWorld full of morons,2/10,vsto-46698,5 November 2020,Anyone beyond the age of 3 who found anything remotely funny in this travesty or in the previous Borat movie is more intellectually shortchanged than the Trump Chumps. Hollywood has reached a new low. Yes; I loved the way it ridicules the fundamentalcase Klueless Kristian Kluxxers; & that is why it got a 2 rather than a 1 rating.,0,5,/review/rw6237071/?ref_=tt_urv\\n6,6/10,Edvis-1997,3 November 2020,This wasn\\'t bad but... After 14 years a lot of things have changed and the issue is in the first movie they could make more aggressive;racist;dark humour than they can do now. Film is still nice despite that. They had idea; they stick to it. Another con or issue I see in this movie is giving more attention to women. I loved first Borat movie because it made fun of women and now when they praise women they are losing main point and attention... In my opinion; they could\\'ve waited a little bit longer and create better script for this movie; because first movie was masterpiece and this only Meh which is really disappointing.,0,2,/review/rw6234096/?ref_=tt_urv\\nEh,6/10,drael64,3 November 2020,Maria stifles laughs throughout; which is not good for an undercover actor. There\\'s a lot of deceptive cuts; etc. Borat doesn\\'t really offer anything fresh apart from a little woke moralizing on the side. There are some cute moments - the old jewish lady; and the qanon flatmates; but like the first film I didn\\'t find this particularly funny. I think I might actually prefer ali-g; something that was definitely coming from a more light hearted place than this film.,0,5,/review/rw6232947/?ref_=tt_urv\\nsimply put... funny but i mean... propoganda endless propoganda,7/10,imdbmoviereviews,31 October 2020,Obviously there was also a lot of bias before at the first film but everything was satirical and not really serious.... joking about our misunderstaing of diffrent coltures povery hate and so on but this feels like pure propoganda... extreme mislead and.... funny still beacuse of how silly and idiotic it is...,0,7,/review/rw6221117/?ref_=tt_urv\\nSubsequent disappointment,5/10,thedeadmanwalking-21623,30 October 2020,The first Borat was a great film; that worked really well. The character of Borat as a cultural; zany yet ignorant foreigner; placed into an unscripted polar opposite society; provided a great springboard for the jokes and bits. The comedy had variety; with various comedic targets that allowed for differentiated hyperbolic; comedic interactions and misunderstandings from broad; timeless insights.This film disappointingly forgot all of that. Instead; choosing heavily scripted interactions and timestamped; \\'safe\\' and predictable pop-cultural-political references. Politics has a place in comedy as it does in all art; but comedy pivots on insights and perspectives. Drawing them from a single - played out demographic like this film does; leaves you with a repetitive; flavorless and forgettable product. They obviously focused their writing efforts more on creating a narrative; but sadly it\\'s mediocre at best (11 writer credits; btw).The overall comedy could have worked if the general interactions were less scripted and more genuine. There are a few big bits in the film that were genuine attempts; though they were failures with moderate deceptive editing to cover them up a little (and were spoiled by the trailer). The skits throughout the film relying on shock humor that play on Borat as a cultural outsider; likewise don\\'t work because they\\'re too scripted and chessily written; instead of feeling organic and unpredictable from improvisational comedy.Though disappointing; to produce and release a film during a global pandemic is an achievement nonetheless. Additional praise should also go to Maria Bakalova for a standout performance; which hopefully jumpstarts a more fruitful career for her. Overall; unless you\\'re bored for an hour and a bit; watch something else.,0,3,/review/rw6219214/?ref_=tt_urv\\nIt was ok.....,5/10,vinny-41214,26 October 2020,It was ok. Pushed the edge as always just seemed forced. I think with all the politics we are already getting all day every day it probably would\\'ve been better to release next year after all this stuff is over.... hopefully,0,5,/review/rw6206923/?ref_=tt_urv\\nJust asking,,tanchevavioleta,25 October 2020,Cannot understand why the Kazakhstanian daughter speaks Bulgarian all the time (OK that the actress is Bulgarian - Maria Bakalova)..? I believe for some Bulgarians and Kazakhstanians who will watch it would be annoying; as it is for me; honestly.,0,4,/review/rw6206095/?ref_=tt_urv\\nNot as funny as Borat; but worth a watch,6/10,datrax,25 October 2020,Unfortunately nothing like the first film; aside from the central hi-jinks surrounding the Borat character; which is the main strong point that delivers the most laughs. Whereas the first centered around making the unwilling subjects react in stranger than fiction ways; here much of the \"docu-comedy\" action is or appears to be scripted; and there\\'s a rather drawn out boring middle section weighed down by this; where you only really keep watching for the central \"plot\" and comedy of Borat\\'s \"mission\". It\\'s unavoidable that the character is now too well-known to get away with the stunts of the original Borat; but it nonetheless weighs the comedy down a fair bit and feels rather hollow at times. As does the ham-fisted hit-and-miss propaganda-comedy moments of.. dressing up in a \"Trumpsuit\" to crash a GOP Pence talk that falls rather flat; and a curious bit with Guiliani that is nothing like the headlines it garnered and seems designed more to sway votes than deliver comedy; without spoiling too much; as there\\'s little to nothing to spoil; one of the characters pretends to be a reporter who tries to seduce Giuliani and appears to succeed; proving what would come as little shock to most; that most powerful people won\\'t say no to sleeping with an attractive journalist if given the chance; but the whole entrapment joke is rather ruined when Borat burst in at the moment suprème to try and get some clickbait headlines out of the whole ordeal; ruining whatever slight comedic value it presented. And given Guiliani was actually re-iterating stuff in the interview I rather agree with without being a Republican; it all felt like a rather stunted political prank that was neither daring nor really that interesting; and rather begs the question if the whole film weren\\'t commissioned by the Biden camp in some form. Which; aside from dialing down the comedic value yet some more; just doesn\\'t deliver much in the way of Borat-style comedy we\\'ve seen so far. Nonetheless it\\'s worth a watch; and the first 15 minutes are immediately very funny; I recommend to watch it for the SBC character comedy alone and not expect too much in the way of classic Borat semi-improvisational comedy; because I\\'m hard-pressed to remember any segment that either wasn\\'t or didn\\'t feel like it was entirely scripted with actors pretending to be clerks or barbershop customers or a plastic surgery clinic. Luckily it\\'s somewhat made up for by the character comedy; but it only manages to reach the heights of the original; or The Dictator; on a few occasions. Still worth watching. 6/10,0,3,/review/rw6204621/?ref_=tt_urv\\nWonderful setups; disappointing execution,5/10,justino1996,25 October 2020,The original Borat struck the world at the PERFECT time. A time when certain topics deserved to be questioned and satirized when they commonly weren\\'t. Borat was a breath of fresh-woke-air. Sadly; 16 years later; Borat Subsequent Movie Film marginally fails to match the payoff of its culturally classic original. Every joke is based upon political/social satire; just like the original; but never once goes over the realm of being anything funnier than something you saw on College Humor or SNL four years ago. Every joke is there waiting to be told; but never attempts to be anything more than a \"that\\'s funny\" comment. The film feels incredibly safe when it should have let itself let loose and stir the pot like it did almost two decades ago. A lot of this can be related to the lives we live now where politics have become hyper saturated and aggressive to the point where nothing makes us \"surprised\" anymore. I can\\'t let that excuse the new Borat; but I think it may have been a roadblock that is impossible to to hurtle in this political climate. To more technical faults; the director clearly did not have a sense of classical comedic pacing; every joke is a mile a minute; not unlike a new episode of family guy. We never get the chance to examine Borat\\'s reactions to the cultural divide that made his first outing so charming but realizing. This is a film that would have greatly; and I mean greatly; come to excellent realization as a multi-part series not unlike modern streaming-only documentaries. I feel this would have been the true home of the beloved Borat Sagdiyev. To conclude; there\\'s visual enjoyment to be had; however; there\\'s nothing here you can\\'t get from watching YouTube for the 97 minute running of Borat Subsequent Movie Film.,0,7,/review/rw6204471/?ref_=tt_urv\\nSome parts of the film are genuinely hilarious; but sadly it is a little inconsisent overall,6/10,jimbo-53-186511,25 October 2020,Borat is back and after upsetting practically everyone following the events of the 2006 original film he attempts to make amends by offering a prize to a senior US political figure. Naturally; things don\\'t run smoothly and both Borat and his unwilling subject form an unlikely bond as the narrative progresses....I absolutely loved the original Borat and when I learned recently that a sequel was streaming on Amazon Prime I leapt at the chance and decided to watch it this evening. Whilst on the whole I enjoyed this sequel it\\'s definitely missing something when compared to the original...It starts out well and there are several moments in the first 20 minutes or so that are very reminiscent of the original Borat film; there\\'s the naivety and general sense of innocence with the character of Borat that we witnessed in the original film which were a big factor in making the original film work. However; in the sequel these aspects seem to be lost somewhere from 30 minutes onwards...Ok so the film is still fun and remains this way throughout; but the actual subtext to the story is extremely heavy-handed and somewhat unnecessary; somebody within the cast or production team is clearly heavily right-wing/republican and I did find that the serious political stance did take away from the film. This is offset at times by Borat and the republicans downplaying the virus (which does afford the film with some of its funnier moments); but what made the original film work so well is that you genuinely felt that you were watching an idiot go to America; make a fool of himself but with subtle winks to the camera.In this sequel the plot gets in the way far too much and the heavy-handed approach employed arguably takes away more than it adds (it\\'s shamelessly right-wing and pro-Trump which for me regardless of your political allegiance) makes the film too self-aware and makes it less funny. Thankfully the film does get back on track from time to time (the idea that Borat has inadvertently injected himself with the virus and spread it around the world is where the film is strong and had the film focussed on this I think it would have been better - essentially seeing an idiot inadvertently creating a global pandemic)Still Sacha Baron Cohen is as brilliant as he always is and newcomer Maria Bakalova is also excellent (and her makeover transformation is incredible). Whilst the final scenes in the film were hilarious I found the heavy-handed politics a little too much at times. It almost felt like I was watching a lengthy pro-Republican/Anti-democratic broadcast (and the sheer number of Trump\\'s cabinet that appeared in the film merely re-inforces this point making me think he either had a hand in bankrolling the film or somebody in the production crew was a big Republican).All that being said; this sequel to Borat made me laugh (a lot) and the ridiculous hyperbole surrounding the virus also resonated with me (I agree that it\\'s all overhyped). This sequel is still good; but second time around things feel a little too serious and self-aware which tarnish the overall quality of this sequel.,0,3,/review/rw6203824/?ref_=tt_urv\\nOccasionally funny but mostly grimmer than grimsby,5/10,RetroRick,24 October 2020,The original Borat was almost certainly the funniest thing Sacha Baron Cohen did. This film retreads similar ground in way that is quite difficult to distinguish from the original but it just doesn\\'t have the same vibe.Cohen is no different as Borat but the appendage of a clear political agenda to this film simply changes the character of the movie. Right wing Americans; Trump supporters; po-faced Christians etc just seem like not so much easy targets but incredibly predictable ones. The whole movie; framed around attempts to give Borat\\'s daughter away as some kind of sex gift; first to Pence and then Giuliani makes this film a piece of not remotely subtle political propaganda. In fact I almost hesitate to use the term because the kind of propaganda we encounter these days tries to disguise it\\'s purpose. Borat 2 at least has the decency not to do that. Sacha Baron clearly has very real political / ethical concerns about the illiberal nature of the Trump led Republican party & this film is simply about trying to damage the enemy.I can respect that I guess; but it makes it hard to take it as comedy in any kind of pure sense; which is something which really alters the movie; for however much Sacha Baron Cohen may remain the same very funny guy; he has lost his capacity to portray Borat as genuinely innocent.We experience this as a greater distance from the character; & the lack of something which was so important in the original film - the sense that at any moment Borat might do something truly shocking but innocent; so outrageous that it is cringeworthy. The problem here is though the shocking language & scatology come thick & fast they don\\'t have the same power to make us titter.The second main reason this is so is one the film addresses fairly early on: we know & Borat knows that most people already know all about him; that he\\'s famous & the possibility of milking comedy out of people caught completely off their guard has largely vanished. What this means in practice is that while we suspect that a lot of the film is basically scripted & performed by paid actors pretending to not know what is going on; where we suspect Borat might actually have caught someone unawares; we are still not sure it is a \\'real\\' encounter. It really isn\\'t Cohen\\'s fault that that is the case. He & the film-makers do their best to work around this but ultimately it is a huge weight round the film; even where the script is sound & the jokes are fairly objectively funny.In fact the only clearly unscripted events in the film are the gate-crashing of a Republican party convention where Pence is the guest speaker - the look on Pence\\'s face is priceless - a mixture of sadness & anger - & the interview with Rudy Giuliani. Rudy clearly does get suckered a little bit by Tutar; Borat\\'s much abused daughter; become journalist. It doesn\\'t look like anything would have happened but Giuliani is clearly charmed & flattered by the over-awed attention of the pretty young blonde woman with a confidence problem; who needs defending from her overbearing camerman (father). In fact it\\'s rather disconcerting how successfully they play Giuiliani in this way.There are some other funny bits. The beginning is quite funny. The absurdity doubling down on the calumies against Khazakstan as a nation are quite funny as is the idea that Khazakstanis are offended by holocaust-deniers because they are proud of their role in causing the holocaust (I\\'m fairly sure this is completely unfair to Khazakstan but who knows).But the jokes by and large are few & far between & mostly what we get - far more than in the original - is a story about Borat\\'s mission (to gift his daughter to Pence/Giuiliani) & the evolution of his relationship to his daughter.It\\'s here that something quite odd happens. While Borat seems slightly lame & stale; the daughter Tutar is actually really good. She has a genuine feel for the piss-take aspect of the Borat format; & seems a complete natural in the role; playing the almost savage caged downtrodden female (Borat\\'s Khazakstan seems to have doubled down on \"evil patriarchy\" since the last movie) with relish & really getting into the - probably best scene in the movie - the joint dance at the debutante scene. I said earlier that we were never quite sure whether the people getting sent up or outraged were real or actors - well I\\'m fairly sure the society figures & debutantes were real - the look of shock & disgust was almost certainly geniune & the same probably is true for the christian ladies who Tutar speaks out to later on.This aside the film dragged alot; & I never cared much about what happened. Sacha Baron Cohen is enormously talented; but he\\'s not quite as sympathetic as he used to be. Overall I preferred his Grimsby with Mark Strong over this by far.,0,3,/review/rw6203451/?ref_=tt_urv\\nLimited Shelf Life,5/10,uoduck92,24 October 2020,In two weeks; half of the movie\\'s content becomes irrelevant. That said; it had its heartfelt moments in the synagogue and with the Patriot guys taking him in. The actress playing his daughter is a force to be reckoned with; under SBC\\'s wing she can really go far in the world of cinematic comedy...,0,10,/review/rw6202130/?ref_=tt_urv\\n5/10,5/10,garylyons-91273,24 October 2020,A few laugh out loud moments; compared to the first nowhere near as good. A lot of gags fall flat and felt forced.,0,7,/review/rw6201710/?ref_=tt_urv'"
      ]
     },
     "metadata": {},
     "execution_count": 128
    }
   ],
   "source": [
    "results = '\\n'.join(contents)\n",
    "results"
   ]
  },
  {
   "cell_type": "code",
   "execution_count": 129,
   "metadata": {},
   "outputs": [],
   "source": [
    "with open('borat_reviews.csv', 'w') as outfile:\n",
    "    outfile.write(results)"
   ]
  }
 ],
 "metadata": {
  "kernelspec": {
   "display_name": "Python 3",
   "language": "python",
   "name": "python3"
  },
  "language_info": {
   "codemirror_mode": {
    "name": "ipython",
    "version": 3
   },
   "file_extension": ".py",
   "mimetype": "text/x-python",
   "name": "python",
   "nbconvert_exporter": "python",
   "pygments_lexer": "ipython3",
   "version": "3.7.6-final"
  }
 },
 "nbformat": 4,
 "nbformat_minor": 2
}